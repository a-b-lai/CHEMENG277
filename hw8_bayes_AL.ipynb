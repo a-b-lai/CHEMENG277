{
 "cells": [
  {
   "cell_type": "markdown",
   "metadata": {},
   "source": [
    "# Homework 8\n",
    "\n",
    "In this homework...\n",
    "\n",
    "* Revisit the experimental data for the bandgap of PbS quantum dots versus size\n",
    "\n",
    "* Perform polynomial fits to the data and use Bayes Information Criterion to select the best-fit model\n",
    "\n",
    "* Tranform the data using a logarithm and repeat the model-selection routine and identify the best-fit model among all of the candidates"
   ]
  },
  {
   "cell_type": "code",
   "execution_count": 1,
   "metadata": {},
   "outputs": [],
   "source": [
    "import numpy as np\n",
    "import sys\n",
    "sys.path.append('../')\n",
    "import matplotlib.pyplot as plt\n",
    "import scipy.special as sp"
   ]
  },
  {
   "cell_type": "code",
   "execution_count": 2,
   "metadata": {},
   "outputs": [],
   "source": [
    "def f_dist(w, r1, r2):\n",
    "    r\"\"\"\n",
    "    f_dist - F-Distribution for the distribution of the ratio of variances\n",
    "\n",
    "    :param w: w parameter in the F-distribution\n",
    "    :param r1: Degrees of freedom 1 \n",
    "    :param r2: Degrees of freedom 2\n",
    "    \n",
    "    :return: f_val - Value of the F-Distribution\n",
    "    \"\"\"\n",
    "\n",
    "    f_val = sp.gamma((r1 + r2) / 2) * (r1 / r2) ** (r1 / 2) * w ** (r1 / 2 - 1) / (\n",
    "        sp.gamma(r1 / 2) * sp.gamma(r2 / 2) * (1 + r1 * w / r2) ** ((r1 + r2) / 2))\n",
    "\n",
    "\n",
    "    return f_val"
   ]
  },
  {
   "cell_type": "markdown",
   "metadata": {},
   "source": [
    "Problem Statement\n",
    "-----------------------"
   ]
  },
  {
   "cell_type": "markdown",
   "metadata": {},
   "source": [
    "1. Load the bandgap data. Note that column 0 is the particle size (nm) and the remaining columns are individual measurements of the bandgap (eV) at each particle size. Calculate the mean bandgap at each particle size, and plot the individual measurements and the sample means."
   ]
  },
  {
   "cell_type": "code",
   "execution_count": 50,
   "metadata": {},
   "outputs": [
    {
     "data": {
      "text/plain": [
       "Text(0, 0.5, 'Band gap [eV]')"
      ]
     },
     "execution_count": 50,
     "metadata": {},
     "output_type": "execute_result"
    },
    {
     "data": {
      "image/png": "[encoded data removed]",
      "text/plain": [
       "<Figure size 432x288 with 1 Axes>"
      ]
     },
     "metadata": {
      "needs_background": "light"
     },
     "output_type": "display_data"
    }
   ],
   "source": [
    "data = np.loadtxt(open(\"data/bandgap.csv\", \"rb\"), delimiter=\",\", skiprows=0)\n",
    "size = data[:,0]\n",
    "bandgap = data[:,1:]\n",
    "bandgap_mean = np.mean(bandgap, axis = 1)\n",
    "\n",
    "for x, y in zip(size,bandgap):\n",
    "    plt.scatter([x] * len(y), y)\n",
    "\n",
    "plt.scatter(size, bandgap_mean, marker = 'x', color='k')\n",
    "plt.xlabel('Particle size [nm]')\n",
    "plt.ylabel('Band gap [eV]')"
   ]
  },
  {
   "cell_type": "markdown",
   "metadata": {},
   "source": [
    "2. Perform a polynomial fit of the sample means of the data (using all $N_{i} = 11$ replicates) with polynomial order ranging from 1 (linear) to 7. Determine the Bayes Information Criterion for each of these fits and plot the BIC versus order of the polynomial fit."
   ]
  },
  {
   "cell_type": "code",
   "execution_count": 51,
   "metadata": {},
   "outputs": [
    {
     "name": "stdout",
     "output_type": "stream",
     "text": [
      "[274.29461247 153.30988358  92.3716124   36.2983863   33.44876178\n",
      "  36.84668705  42.30125248]\n"
     ]
    },
    {
     "data": {
      "text/plain": [
       "Text(0, 0.5, 'BIC')"
      ]
     },
     "execution_count": 51,
     "metadata": {},
     "output_type": "execute_result"
    },
    {
     "data": {
      "image/png": "[encoded data removed]",
      "text/plain": [
       "<Figure size 432x288 with 1 Axes>"
      ]
     },
     "metadata": {
      "needs_background": "light"
     },
     "output_type": "display_data"
    }
   ],
   "source": [
    "ne = len(size)\n",
    "ni = 11\n",
    "n = ne * ni\n",
    "\n",
    "m = np.zeros(ne)\n",
    "sse = 0\n",
    "\n",
    "plt.figure()\n",
    "font = {'family' : 'serif',\n",
    "        'weight':'normal',\n",
    "        'size': 18}\n",
    "plt.rc('font', **font)\n",
    "\n",
    "for i_t in range(len(bandgap_mean)):\n",
    "    ind_0 = i_t * ni\n",
    "    ind_f = i_t * ni + ni\n",
    "    m[i_t] = np.mean(bandgap[i_t,:])\n",
    "    sse += np.sum((bandgap[i_t,:] - m[i_t]) ** 2)\n",
    "    \n",
    "    #plt.scatter(t[i_t] + np.zeros(ni), x[ind_0:ind_f])\n",
    "    \n",
    "#plt.scatter(t, m, s = 100, color = 'k')\n",
    "#plt.scatter(t, m, s = 70, color = 'w')\n",
    "\n",
    "order_vec = np.array([1, 2, 3, 4, 5, 6, 7])\n",
    "bic = np.zeros(len(order_vec))\n",
    "\n",
    "for i_order in range(len(order_vec)):\n",
    "    order = order_vec[i_order]\n",
    "    poly = np.polyfit(size, bandgap_mean, order)\n",
    "    mfit = np.polyval(poly, size)\n",
    "#    if order < 3:\n",
    "#        plt.plot(t, mfit, 'k-')\n",
    "    ssf = ni * np.sum((bandgap_mean - mfit) ** 2)\n",
    "    r1 = ne - (order + 1)\n",
    "    r2 = n - ne\n",
    "    w = (ssf / r1) / (sse / r2)\n",
    "    f_order = f_dist(w, r1, r2)\n",
    "    bic[i_order] = -2 * np.log(f_order) + (order + 1) * np.log(n)\n",
    "\n",
    "print(bic)\n",
    "\n",
    "plt.scatter(order_vec, bic, s = 80)\n",
    "plt.xlabel('Order of polynomial fit')\n",
    "plt.ylabel('BIC')"
   ]
  },
  {
   "cell_type": "markdown",
   "metadata": {},
   "source": [
    "3. Tranform the data by taking the log of both the particle size and the bandgap. Calculate the mean bandgap at each particle size, and plot on a logarithmic axis the individual measurements and the sample means."
   ]
  },
  {
   "cell_type": "code",
   "execution_count": 52,
   "metadata": {},
   "outputs": [
    {
     "data": {
      "text/plain": [
       "Text(0, 0.5, 'Log band gap [eV]')"
      ]
     },
     "execution_count": 52,
     "metadata": {},
     "output_type": "execute_result"
    },
    {
     "data": {
      "image/png": "[encoded data removed]",
      "text/plain": [
       "<Figure size 432x288 with 1 Axes>"
      ]
     },
     "metadata": {
      "needs_background": "light"
     },
     "output_type": "display_data"
    }
   ],
   "source": [
    "for x, y in zip(size,bandgap):\n",
    "    plt.scatter([x] * len(y), y)\n",
    "\n",
    "plt.scatter(size, bandgap_mean, marker = 'x', color='k')    \n",
    "    \n",
    "plt.yscale('log')\n",
    "plt.xscale('log')\n",
    "plt.xlabel('Log particle size [nm]')\n",
    "plt.ylabel('Log band gap [eV]')"
   ]
  },
  {
   "cell_type": "markdown",
   "metadata": {},
   "source": [
    "4. Perform a polynomial fit of the transformed sample means of the data (using all $N_{i} = 11$ replicates) with polynomial order ranging from 1 (linear) to 7. Determine the Bayes Information Criterion for each of these fits and plot the BIC versus order."
   ]
  },
  {
   "cell_type": "code",
   "execution_count": 53,
   "metadata": {},
   "outputs": [
    {
     "name": "stdout",
     "output_type": "stream",
     "text": [
      "[11.03751304 16.67547955 22.25563728 27.26133165 31.7945254  36.73005477\n",
      " 42.04238663]\n"
     ]
    },
    {
     "data": {
      "text/plain": [
       "Text(0, 0.5, 'BIC')"
      ]
     },
     "execution_count": 53,
     "metadata": {},
     "output_type": "execute_result"
    },
    {
     "data": {
      "image/png": "[encoded data removed]",
      "text/plain": [
       "<Figure size 432x288 with 1 Axes>"
      ]
     },
     "metadata": {
      "needs_background": "light"
     },
     "output_type": "display_data"
    }
   ],
   "source": [
    "log_size = np.log(size)\n",
    "log_bg = np.log(bandgap)\n",
    "log_bg_mean = np.mean(log_bg, axis=1)\n",
    "\n",
    "ne = len(log_size)\n",
    "ni = 11\n",
    "n = ne * ni\n",
    "\n",
    "m = np.zeros(ne)\n",
    "sse = 0\n",
    "\n",
    "plt.figure()\n",
    "font = {'family' : 'serif',\n",
    "        'weight':'normal',\n",
    "        'size': 18}\n",
    "plt.rc('font', **font)\n",
    "\n",
    "for i_t in range(len(bandgap_mean)):\n",
    "    ind_0 = i_t * ni\n",
    "    ind_f = i_t * ni + ni\n",
    "    m[i_t] = np.mean(log_bg[i_t,:])\n",
    "    sse += np.sum((log_bg[i_t,:] - m[i_t]) ** 2)\n",
    "\n",
    "order_vec = np.array([1, 2, 3, 4, 5, 6, 7])\n",
    "bic2 = np.zeros(len(order_vec))\n",
    "\n",
    "for i_order in range(len(order_vec)):\n",
    "    order = order_vec[i_order]\n",
    "    poly = np.polyfit(log_size, log_bg_mean, order)\n",
    "    mfit = np.polyval(poly, log_size)\n",
    "#    if order < 3:\n",
    "#        plt.plot(t, mfit, 'k-')\n",
    "    ssf = ni * np.sum((log_bg_mean - mfit) ** 2)\n",
    "    r1 = ne - (order + 1)\n",
    "    r2 = n - ne\n",
    "    w = (ssf / r1) / (sse / r2)\n",
    "    f_order = f_dist(w, r1, r2)\n",
    "    bic2[i_order] = -2 * np.log(f_order) + (order + 1) * np.log(n)\n",
    "    \n",
    "print(bic2)\n",
    "plt.scatter(order_vec, bic2, s = 80)\n",
    "plt.xlabel('Order of polynomial fit')\n",
    "plt.ylabel('BIC')"
   ]
  },
  {
   "cell_type": "markdown",
   "metadata": {},
   "source": [
    "5. Based on your results, identify the best-fit model among all candidates (i.e. polynomial fit with and without logarithmic transformation). Justify the confidence in this choice based on guidelines provided in lecture."
   ]
  },
  {
   "cell_type": "code",
   "execution_count": 54,
   "metadata": {},
   "outputs": [
    {
     "name": "stdout",
     "output_type": "stream",
     "text": [
      "best fit model: 1st order with log transform, BIC = 11.037513042752437\n"
     ]
    }
   ],
   "source": [
    "#best fit model has lowest bic value\n",
    "bestfit_bic = bic2[0]\n",
    "print('best fit model: 1st order with log transform, BIC =', bestfit_bic)"
   ]
  },
  {
   "cell_type": "code",
   "execution_count": 55,
   "metadata": {},
   "outputs": [
    {
     "name": "stdout",
     "output_type": "stream",
     "text": [
      "[263.25709943 142.27237054  81.33409936  25.26087326  22.41124873\n",
      "  25.80917401  31.26373943]\n",
      "[ 0.          5.6379665  11.21812423 16.22381861 20.75701236 25.69254173\n",
      " 31.00487358]\n"
     ]
    }
   ],
   "source": [
    "#negative means reference model is better than alternative\n",
    "\n",
    "diff_nolog = np.zeros(len(bic))\n",
    "diff_log = np.zeros(len(bic2))\n",
    "for i in range(len(bic)):\n",
    "    diff_nolog[i] = bic[i] - bestfit_bic\n",
    "    diff_log[i] = bic2[i] - bestfit_bic\n",
    "\n",
    "print(diff_nolog)\n",
    "print(diff_log)"
   ]
  },
  {
   "cell_type": "markdown",
   "metadata": {},
   "source": [
    "After calculating all of the BIC differences from the reference model (1st order with log transform), we see that all the values except for one are greater than 10, while the other value is 5. Given the table from lecture, we see that the model with a difference of 5, the 2nd order model with log transform, indicates positive evidence against that model while all the others are very strong in evidence against them. We can confirm that none of the other models are competitive relative to our reference model."
   ]
  },
  {
   "cell_type": "markdown",
   "metadata": {},
   "source": [
    "6. You manage a pension fund and want to increase your position in high-performing stocks, which you define as any stock with mean monthly returns of at least 2%. You notice that of the past 24 months ($N$ = 24), the stock SPKZ has returned an average of 2.5% each month. Use Bayesian inference to determine the probability that SPKZ is a high performer given these results.\n",
    "\n",
    "**Assumptions (and hints):**\n",
    "\n",
    "* Assume that monthly returns for the entire stock market are gaussian distributed with mean 0% and standard deviation 1%. (Use this for your prior.)\n",
    "\n",
    "* Assume that the standard deviation you observe in SPKZ returns is 2%. (This is kind of like an \"experimental\" variance.)"
   ]
  },
  {
   "cell_type": "code",
   "execution_count": 39,
   "metadata": {},
   "outputs": [
    {
     "name": "stdout",
     "output_type": "stream",
     "text": [
      "0.6472715069443633\n"
     ]
    }
   ],
   "source": [
    "#Ok to keep as percents\n",
    "sigma_m = 1\n",
    "m = 2.5 # miu/mean\n",
    "m_dist = 0\n",
    "sigma_e = 2\n",
    "n = 24\n",
    "beta = 2 #defined for a high performer\n",
    "\n",
    "alpha = sigma_m**2 / sigma_e**2\n",
    "x0 = (1+n*alpha)**0.5/(2**0.5*sigma_m) * ((n*alpha/(n*alpha+1))*(m_dist-m)+beta*sigma_m)\n",
    "p = 0.5 * sp.erfc(x0)\n",
    "print(p)"
   ]
  },
  {
   "cell_type": "markdown",
   "metadata": {},
   "source": [
    "7. **THOUGHT QUESTION:** In the class example applying Bayes' Theorem to COVID-19 testing, you saw that due to an imbalance in the prior, even a low false positive rate can result a large portion of positive tests returned from healthy individuals. One way to reduce the false positive rate would be to increase the threshold required by the test to return a positive result – however, this comes at the expense of an increased false negative rate. Often times when designing tests there is a trade-off between false positive and false negative rates. Describe a scenario where you would accept a higher false positive rate for a lower false negative rate. Describe another scenario where you would accept a higher false negative rate for a lower false positive rate."
   ]
  },
  {
   "cell_type": "markdown",
   "metadata": {},
   "source": [
    "False negative is a missed opportunity.\n",
    "False positive is a misjudged opportunity.\n",
    "\n",
    "One might accept a higher false positive rate in the case of urgent medical interventions when it is better to have misjudged the severity of the situation rather than not acting on it.\n",
    "\n",
    "A higher false negative rate is more acceptable in situations when the opportunity has high risk if misjudged. For example, gambling in business or investments might accept a higher false negative rate with the risk of a false positive being very detrimental financially to a company or individual."
   ]
  }
 ],
 "metadata": {
  "kernelspec": {
   "display_name": "Python 3",
   "language": "python",
   "name": "python3"
  },
  "language_info": {
   "codemirror_mode": {
    "name": "ipython",
    "version": 3
   },
   "file_extension": ".py",
   "mimetype": "text/x-python",
   "name": "python",
   "nbconvert_exporter": "python",
   "pygments_lexer": "ipython3",
   "version": "3.8.5"
  }
 },
 "nbformat": 4,
 "nbformat_minor": 4
}
