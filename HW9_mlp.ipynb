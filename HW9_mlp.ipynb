{
 "cells": [
  {
   "cell_type": "markdown",
   "metadata": {},
   "source": [
    "# Multilayer Perceptron for Pancreatic Cell Classification\n",
    "\n",
    "* For this homework, you will apply scRNA-seq data to classify different types of pancreatic cells\n",
    "\n",
    "* To do so, we will apply and compare various classification algorithms demonstrated in class\n"
   ]
  },
  {
   "cell_type": "markdown",
   "metadata": {},
   "source": [
    "Preprocessed RNA sequence data is published by:\n",
    "\n",
    "* [Abdelaal, T.; Michielsen, L.; Cats, D.; Hoogduin, D.; Mei, H.; Reinders, M. J. T.; Mahfouz, A. A Comparison of Automatic Cell Identification Methods for Single-Cell RNA Sequencing Data. Genome Biology 2019, 20 (1), 194.](https://doi.org/10.1186/s13059-019-1795-z)\n"
   ]
  },
  {
   "cell_type": "markdown",
   "metadata": {},
   "source": [
    "## Problem Statement"
   ]
  },
  {
   "cell_type": "markdown",
   "metadata": {},
   "source": [
    "1. Load pancreatic cell labels from `data/Pancreatic_Labels.csv` into a list or vector called `all_labels`, and print this vector. Load the single-cell RNA-seq data from `data/subset_combined_humanpancreas_data.csv` into a pandas data frame called `scRNAseq_data`, making sure to specify that the index column is column 0. Print the head of this data frame. The classes in `all_labels` correspond to rows in `scRNAseq_data`.\n",
    "\n",
    "2. Isolate indices in `all_labels` corresponding either \"alpha\" or \"beta\" pancreatic cell labels. Isolate values in `all_labels` corresponding to these indices, and store this new label vector as `labels_ab`. Likewise, isolate rows in `scRNAseq_data` corresponding to these indices, and store these rows in a data frame called `scRNAseq_ab`. Print the **length** of `labels_ab` and the **shape** of `scRNAseq_ab`.\n",
    "\n",
    "3. We will train classifiers to predict \"alpha\" or \"beta\" pancreatic cell types from scRNA-seq data. Our covariates are the mRNA counts in `scRNAseq_ab` and our labels are the \"alpha\" and \"beta\" classes in `labels_ab`. Create an 80%/20% train/test split of this data.\n",
    "\n",
    "4. Using the training set, train a logistic regression classifier to predict pancreatic cell labels. Then, evaluate the classifier performance by reporting its accuracy at predicting cell classes in the test set.\n",
    "\n",
    "5. Repeat problem 4 for an SVM classifier. You may select a kernel of your choice, but please explicitly specify the kernel when initializing your classifier.\n",
    "\n",
    "6. Repeat problem 4 for an MLP classifier. You may select an activation function of your choice, but please explicitly specify the activation function when initializing your classifier. You may change the hidden layer architecture from its default settings if you would like, but you do not have to.\n",
    "\n",
    "7. How did the performance of the three classifiers compare to one-another? "
   ]
  },
  {
   "cell_type": "markdown",
   "metadata": {},
   "source": [
    "## Solutions"
   ]
  },
  {
   "cell_type": "code",
   "execution_count": 1,
   "metadata": {},
   "outputs": [],
   "source": [
    "import numpy as np\n",
    "import pandas as pd\n",
    "from sklearn.linear_model import LogisticRegression\n",
    "from sklearn.svm import SVC\n",
    "from sklearn.neural_network import MLPClassifier\n",
    "from sklearn.model_selection import train_test_split"
   ]
  },
  {
   "cell_type": "markdown",
   "metadata": {},
   "source": [
    "1. Load pancreatic cell labels from `data/Pancreatic_Labels.csv` into a list or vector called `all_labels`, and print this vector. Load the single-cell RNA-seq data from `data/subset_combined_humanpancreas_data.csv` into a pandas data frame called `scRNAseq_data`, making sure to specify that the index column is column 0. Print the head of this data frame. The classes in `all_labels` correspond to rows in `scRNAseq_data`."
   ]
  },
  {
   "cell_type": "code",
   "execution_count": 8,
   "metadata": {},
   "outputs": [
    {
     "name": "stdout",
     "output_type": "stream",
     "text": [
      "['beta' 'delta' 'delta' ... 'gamma' 'gamma' 'gamma']\n"
     ]
    },
    {
     "data": {
      "text/html": [
       "<div>\n",
       "<style scoped>\n",
       "    .dataframe tbody tr th:only-of-type {\n",
       "        vertical-align: middle;\n",
       "    }\n",
       "\n",
       "    .dataframe tbody tr th {\n",
       "        vertical-align: top;\n",
       "    }\n",
       "\n",
       "    .dataframe thead th {\n",
       "        text-align: right;\n",
       "    }\n",
       "</style>\n",
       "<table border=\"1\" class=\"dataframe\">\n",
       "  <thead>\n",
       "    <tr style=\"text-align: right;\">\n",
       "      <th></th>\n",
       "      <th>A1BG</th>\n",
       "      <th>A1CF</th>\n",
       "      <th>A2M</th>\n",
       "      <th>A4GALT</th>\n",
       "      <th>AAAS</th>\n",
       "      <th>AACS</th>\n",
       "      <th>AACSP1</th>\n",
       "      <th>AADAC</th>\n",
       "      <th>AADAT</th>\n",
       "      <th>AAED1</th>\n",
       "      <th>...</th>\n",
       "      <th>ASPSCR1</th>\n",
       "      <th>ASRGL1</th>\n",
       "      <th>ASS1</th>\n",
       "      <th>ASTE1</th>\n",
       "      <th>ASTN1</th>\n",
       "      <th>ASTN2</th>\n",
       "      <th>ASUN</th>\n",
       "      <th>ASXL1</th>\n",
       "      <th>ASXL2</th>\n",
       "      <th>ATAD1</th>\n",
       "    </tr>\n",
       "  </thead>\n",
       "  <tbody>\n",
       "    <tr>\n",
       "      <th>human1_lib1.final_cell_0007</th>\n",
       "      <td>0.0</td>\n",
       "      <td>0.0</td>\n",
       "      <td>0.0</td>\n",
       "      <td>0.0</td>\n",
       "      <td>0.0</td>\n",
       "      <td>0.0</td>\n",
       "      <td>0.0</td>\n",
       "      <td>0.0</td>\n",
       "      <td>0.0</td>\n",
       "      <td>0.0</td>\n",
       "      <td>...</td>\n",
       "      <td>1.0</td>\n",
       "      <td>0.0</td>\n",
       "      <td>0.0</td>\n",
       "      <td>0.0</td>\n",
       "      <td>0.0</td>\n",
       "      <td>0.0</td>\n",
       "      <td>0.0</td>\n",
       "      <td>1.0</td>\n",
       "      <td>1.0</td>\n",
       "      <td>0.0</td>\n",
       "    </tr>\n",
       "    <tr>\n",
       "      <th>human1_lib1.final_cell_0013</th>\n",
       "      <td>0.0</td>\n",
       "      <td>1.0</td>\n",
       "      <td>0.0</td>\n",
       "      <td>0.0</td>\n",
       "      <td>0.0</td>\n",
       "      <td>0.0</td>\n",
       "      <td>0.0</td>\n",
       "      <td>0.0</td>\n",
       "      <td>0.0</td>\n",
       "      <td>0.0</td>\n",
       "      <td>...</td>\n",
       "      <td>0.0</td>\n",
       "      <td>1.0</td>\n",
       "      <td>0.0</td>\n",
       "      <td>0.0</td>\n",
       "      <td>0.0</td>\n",
       "      <td>0.0</td>\n",
       "      <td>0.0</td>\n",
       "      <td>0.0</td>\n",
       "      <td>0.0</td>\n",
       "      <td>0.0</td>\n",
       "    </tr>\n",
       "    <tr>\n",
       "      <th>human1_lib1.final_cell_0014</th>\n",
       "      <td>0.0</td>\n",
       "      <td>0.0</td>\n",
       "      <td>0.0</td>\n",
       "      <td>0.0</td>\n",
       "      <td>0.0</td>\n",
       "      <td>0.0</td>\n",
       "      <td>0.0</td>\n",
       "      <td>0.0</td>\n",
       "      <td>0.0</td>\n",
       "      <td>0.0</td>\n",
       "      <td>...</td>\n",
       "      <td>0.0</td>\n",
       "      <td>0.0</td>\n",
       "      <td>0.0</td>\n",
       "      <td>1.0</td>\n",
       "      <td>0.0</td>\n",
       "      <td>0.0</td>\n",
       "      <td>0.0</td>\n",
       "      <td>0.0</td>\n",
       "      <td>0.0</td>\n",
       "      <td>0.0</td>\n",
       "    </tr>\n",
       "    <tr>\n",
       "      <th>human1_lib1.final_cell_0015</th>\n",
       "      <td>0.0</td>\n",
       "      <td>0.0</td>\n",
       "      <td>0.0</td>\n",
       "      <td>0.0</td>\n",
       "      <td>1.0</td>\n",
       "      <td>0.0</td>\n",
       "      <td>0.0</td>\n",
       "      <td>0.0</td>\n",
       "      <td>0.0</td>\n",
       "      <td>1.0</td>\n",
       "      <td>...</td>\n",
       "      <td>0.0</td>\n",
       "      <td>2.0</td>\n",
       "      <td>0.0</td>\n",
       "      <td>0.0</td>\n",
       "      <td>0.0</td>\n",
       "      <td>0.0</td>\n",
       "      <td>0.0</td>\n",
       "      <td>0.0</td>\n",
       "      <td>4.0</td>\n",
       "      <td>1.0</td>\n",
       "    </tr>\n",
       "    <tr>\n",
       "      <th>human1_lib1.final_cell_0017</th>\n",
       "      <td>0.0</td>\n",
       "      <td>2.0</td>\n",
       "      <td>0.0</td>\n",
       "      <td>0.0</td>\n",
       "      <td>0.0</td>\n",
       "      <td>1.0</td>\n",
       "      <td>0.0</td>\n",
       "      <td>0.0</td>\n",
       "      <td>0.0</td>\n",
       "      <td>0.0</td>\n",
       "      <td>...</td>\n",
       "      <td>0.0</td>\n",
       "      <td>0.0</td>\n",
       "      <td>0.0</td>\n",
       "      <td>0.0</td>\n",
       "      <td>0.0</td>\n",
       "      <td>0.0</td>\n",
       "      <td>0.0</td>\n",
       "      <td>0.0</td>\n",
       "      <td>0.0</td>\n",
       "      <td>0.0</td>\n",
       "    </tr>\n",
       "  </tbody>\n",
       "</table>\n",
       "<p>5 rows × 1000 columns</p>\n",
       "</div>"
      ],
      "text/plain": [
       "                             A1BG  A1CF  A2M  A4GALT  AAAS  AACS  AACSP1  \\\n",
       "human1_lib1.final_cell_0007   0.0   0.0  0.0     0.0   0.0   0.0     0.0   \n",
       "human1_lib1.final_cell_0013   0.0   1.0  0.0     0.0   0.0   0.0     0.0   \n",
       "human1_lib1.final_cell_0014   0.0   0.0  0.0     0.0   0.0   0.0     0.0   \n",
       "human1_lib1.final_cell_0015   0.0   0.0  0.0     0.0   1.0   0.0     0.0   \n",
       "human1_lib1.final_cell_0017   0.0   2.0  0.0     0.0   0.0   1.0     0.0   \n",
       "\n",
       "                             AADAC  AADAT  AAED1  ...  ASPSCR1  ASRGL1  ASS1  \\\n",
       "human1_lib1.final_cell_0007    0.0    0.0    0.0  ...      1.0     0.0   0.0   \n",
       "human1_lib1.final_cell_0013    0.0    0.0    0.0  ...      0.0     1.0   0.0   \n",
       "human1_lib1.final_cell_0014    0.0    0.0    0.0  ...      0.0     0.0   0.0   \n",
       "human1_lib1.final_cell_0015    0.0    0.0    1.0  ...      0.0     2.0   0.0   \n",
       "human1_lib1.final_cell_0017    0.0    0.0    0.0  ...      0.0     0.0   0.0   \n",
       "\n",
       "                             ASTE1  ASTN1  ASTN2  ASUN  ASXL1  ASXL2  ATAD1  \n",
       "human1_lib1.final_cell_0007    0.0    0.0    0.0   0.0    1.0    1.0    0.0  \n",
       "human1_lib1.final_cell_0013    0.0    0.0    0.0   0.0    0.0    0.0    0.0  \n",
       "human1_lib1.final_cell_0014    1.0    0.0    0.0   0.0    0.0    0.0    0.0  \n",
       "human1_lib1.final_cell_0015    0.0    0.0    0.0   0.0    0.0    4.0    1.0  \n",
       "human1_lib1.final_cell_0017    0.0    0.0    0.0   0.0    0.0    0.0    0.0  \n",
       "\n",
       "[5 rows x 1000 columns]"
      ]
     },
     "execution_count": 8,
     "metadata": {},
     "output_type": "execute_result"
    }
   ],
   "source": [
    "all_data_labels = pd.read_csv('data/Pancreatic_Labels.csv')\n",
    "all_labels = all_data_labels.loc[:, 'x'].values\n",
    "print(all_labels)\n",
    "\n",
    "scRNAseq_data = pd.read_csv('data/subset_combined_humanpancreas_data.csv', index_col = 0)\n",
    "scRNAseq_data.head()"
   ]
  },
  {
   "cell_type": "markdown",
   "metadata": {},
   "source": [
    "2. Isolate indices in `all_labels` corresponding either \"alpha\" or \"beta\" pancreatic cell labels. Isolate values in `all_labels` corresponding to these indices, and store this new label vector as `labels_ab`. Likewise, isolate rows in `scRNAseq_data` corresponding to these indices, and store these rows in a data frame called `scRNAseq_ab`. Print the **length** of `labels_ab` and the **shape** of `scRNAseq_ab`."
   ]
  },
  {
   "cell_type": "code",
   "execution_count": 19,
   "metadata": {
    "scrolled": true
   },
   "outputs": [
    {
     "name": "stdout",
     "output_type": "stream",
     "text": [
      "Length of labels_ab: 8567\n",
      "Cell subclass labels: \n",
      "\n",
      "['beta' 'beta' 'beta' ... 'alpha' 'alpha' 'alpha']\n"
     ]
    }
   ],
   "source": [
    "labels = ['alpha', 'beta']\n",
    "inds = np.where(\n",
    "    [i in labels for i in all_labels]\n",
    ")[0]\n",
    "labels_ab = all_labels[inds].flatten()\n",
    "\n",
    "print('Length of labels_ab:', len(labels_ab))\n",
    "print(\"Cell subclass labels: \\n\")\n",
    "print(labels_ab)"
   ]
  },
  {
   "cell_type": "code",
   "execution_count": 23,
   "metadata": {},
   "outputs": [
    {
     "name": "stdout",
     "output_type": "stream",
     "text": [
      "Shape of scRNAseq_ab: (8567, 1000)\n"
     ]
    }
   ],
   "source": [
    "scRNAseq_ab = scRNAseq_data.iloc[inds,:]\n",
    "print('Shape of scRNAseq_ab:', scRNAseq_ab.shape)"
   ]
  },
  {
   "cell_type": "markdown",
   "metadata": {},
   "source": [
    "3. We will train classifiers to predict \"alpha\" or \"beta\" pancreatic cell types from scRNA-seq data. Our covariates are the mRNA counts in `scRNAseq_ab` and our labels are the \"alpha\" and \"beta\" classes in `labels_ab`. Create an 80%/20% train/test split of this data. Print the number of samples in the training set."
   ]
  },
  {
   "cell_type": "code",
   "execution_count": 40,
   "metadata": {},
   "outputs": [
    {
     "name": "stdout",
     "output_type": "stream",
     "text": [
      "# samples in training set: 6853\n",
      "# samples in test set: 1714\n"
     ]
    }
   ],
   "source": [
    "X_train, X_test, y_train, y_test = train_test_split(scRNAseq_ab.values, labels_ab, test_size=0.2)\n",
    "print('# samples in training set:', len(X_train))\n",
    "print('# samples in test set:', len(X_test))\n"
   ]
  },
  {
   "cell_type": "markdown",
   "metadata": {},
   "source": [
    "4. Using the training set, train a logistic regression classifier to predict pancreatic cell labels. Then, evaluate the classifier performance by reporting its accuracy at predicting cell classes in the test set."
   ]
  },
  {
   "cell_type": "code",
   "execution_count": 41,
   "metadata": {},
   "outputs": [
    {
     "name": "stdout",
     "output_type": "stream",
     "text": [
      "Log reg accuracy: 0.9789964994165694\n"
     ]
    },
    {
     "name": "stderr",
     "output_type": "stream",
     "text": [
      "/Users/annikalai/miniconda3/lib/python3.8/site-packages/sklearn/linear_model/_logistic.py:763: ConvergenceWarning: lbfgs failed to converge (status=1):\n",
      "STOP: TOTAL NO. of ITERATIONS REACHED LIMIT.\n",
      "\n",
      "Increase the number of iterations (max_iter) or scale the data as shown in:\n",
      "    https://scikit-learn.org/stable/modules/preprocessing.html\n",
      "Please also refer to the documentation for alternative solver options:\n",
      "    https://scikit-learn.org/stable/modules/linear_model.html#logistic-regression\n",
      "  n_iter_i = _check_optimize_result(\n"
     ]
    }
   ],
   "source": [
    "logReg = LogisticRegression()\n",
    "logReg.fit(X_train, y_train)\n",
    "\n",
    "y_logReg = logReg.predict(X_test)\n",
    "logReg_score = logReg.score(X_test, y_test)\n",
    "print('Log reg accuracy:', logReg_score)"
   ]
  },
  {
   "cell_type": "markdown",
   "metadata": {},
   "source": [
    "5. Repeat problem 4 for an SVM classifier. You may select a kernel of your choice, but please explicitly specify the kernel when initializing your classifier."
   ]
  },
  {
   "cell_type": "code",
   "execution_count": 42,
   "metadata": {},
   "outputs": [
    {
     "name": "stdout",
     "output_type": "stream",
     "text": [
      "SVM accuracy: 0.9702450408401401\n"
     ]
    }
   ],
   "source": [
    "svm = SVC(kernel = 'linear')\n",
    "svm.fit(X_train, y_train)\n",
    "\n",
    "y_svm = svm.predict(X_test)\n",
    "svm_score = svm.score(X_test, y_test)\n",
    "print('SVM accuracy:', svm_score)"
   ]
  },
  {
   "cell_type": "markdown",
   "metadata": {},
   "source": [
    "6. Repeat problem 4 for an MLP classifier. You may select an activation function of your choice, but please explicitly specify the activation function when initializing your classifier. You may change the hidden layer architecture from its default settings if you would like, but you do not have to."
   ]
  },
  {
   "cell_type": "code",
   "execution_count": 43,
   "metadata": {},
   "outputs": [
    {
     "name": "stdout",
     "output_type": "stream",
     "text": [
      "MLP Accuracy: 0.9801633605600933\n"
     ]
    }
   ],
   "source": [
    "mlp_classifier = MLPClassifier(\n",
    "    activation=\"logistic\",\n",
    "    max_iter=10000\n",
    ")\n",
    "\n",
    "mlp_classifier.fit(X_train, y_train)\n",
    "y_test_predicted = mlp_classifier.predict(X_test)\n",
    "print(\"MLP Accuracy: \" + str(mlp_classifier.score(X_test, y_test)))"
   ]
  },
  {
   "cell_type": "markdown",
   "metadata": {},
   "source": [
    "7. How did the performance of the three classifiers compare to one-another? "
   ]
  },
  {
   "cell_type": "markdown",
   "metadata": {},
   "source": [
    "The accuracies of the three classifiers are very similar, all in the range of 0.97-0.98 for the 80%/20% train/test split. The MLP classifier is SLIGHTLY better than the logisitic regression and both are ~ 0.01 better than the SVM classifier. Considering they are all very similar, it might not be necessary to use a more computationally intensive classifier for a split similar to this one. For example, the MLP classifier is not necessary to reach the same accuracy as it can be achieved by the logistic regression.\n",
    "\n",
    "I also tested the classifiers on a 50/50 train test split and noticed that the logistic regression and MLP stayed roughly the same in acccuracy (small drop), while the SVM dropped a little bit more (~0.05).\n"
   ]
  },
  {
   "cell_type": "code",
   "execution_count": null,
   "metadata": {},
   "outputs": [],
   "source": []
  }
 ],
 "metadata": {
  "kernelspec": {
   "display_name": "Python 3",
   "language": "python",
   "name": "python3"
  },
  "language_info": {
   "codemirror_mode": {
    "name": "ipython",
    "version": 3
   },
   "file_extension": ".py",
   "mimetype": "text/x-python",
   "name": "python",
   "nbconvert_exporter": "python",
   "pygments_lexer": "ipython3",
   "version": "3.8.5"
  }
 },
 "nbformat": 4,
 "nbformat_minor": 2
}
