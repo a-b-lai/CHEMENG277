{
 "cells": [
  {
   "cell_type": "markdown",
   "metadata": {},
   "source": [
    "Homework 4\n",
    "==========\n",
    "\n",
    "In this homework...\n",
    "\n",
    "* Extend the zeolite exercise by fitting a multivariable linear regression with LASSO regularization\n",
    "\n",
    "* Compare LASSO and RIDGE regression"
   ]
  },
  {
   "cell_type": "markdown",
   "metadata": {},
   "source": [
    "Problem Statement\n",
    "-----------------"
   ]
  },
  {
   "cell_type": "markdown",
   "metadata": {},
   "source": [
    "1. Why do we apply regularization techniques? Comment on the differences between RIDGE and LASSO regularization. Specifically, which regularization technique produces weights of zero, and why would you want to use LASSO instead of RIDGE?\n",
    "\n",
    "2. We provide standardized data from the zeolite exercise. Fit this data using the following models and report the resulting $R^2$ values. Which model produces the strongest $R^2$? **Hint:** Apply the `LinearRegression`, `Ridge`, and `Lasso` classes in `sklearn.linear_model`.\n",
    "\n",
    "    (a) Standard linear regression\n",
    "\n",
    "    (b) Ridge regression ($\\lambda = 1$)\n",
    "\n",
    "    (c) Lasso regression ($\\lambda = 1$)\n",
    "\n",
    "3. Randomly isolate 50 % of the zeolite examples in what is called the \"training set.\" Assign the remaining 50 % of examples to a \"test set.\" You will learn more about training/test splits during week 5. Fit the same three models from problem 2 on the training set, and evaluate $R^2$ on the test set. **Hint:** Use the `train_test_split` function from `sklearn.model_selection` to separate the training and test sets.\n",
    "\n",
    "4. What do you notice about the value of $R^2$ in the training and test sets for the standard linear regression and regularized regression models? What do discrepancies in $R^2$ values tell us about overfitting?\n",
    "\n",
    "5. Re-fit the lasso regression model from problem 2 on the training set for the following values of $\\lambda$: 0.1, 0.25, 0.5, 0.75, 0.9. Evaluate the $R^2$ value of each model on the test set. Describe the effect of $\\lambda$ on model generalizability. Notice that `sklearn.linear_model` accepts the regularization parameter $\\lambda$ in the optional argument \"alpha\" during class initialization. \n",
    "\n",
    "6. For each lasso regression model from problem 5, plot the magnitude of coefficients for the top 20 contributing covariates.\n",
    "How does changing $\\lambda$ affect the magnitude of these coefficients?"
   ]
  },
  {
   "cell_type": "markdown",
   "metadata": {},
   "source": [
    "Import modules"
   ]
  },
  {
   "cell_type": "code",
   "execution_count": 6,
   "metadata": {},
   "outputs": [],
   "source": [
    "import numpy as np\n",
    "import pandas as pd\n",
    "import matplotlib.pyplot as plt\n",
    "from sklearn.metrics import r2_score\n",
    "from sklearn import linear_model\n",
    "from sklearn.model_selection import train_test_split"
   ]
  },
  {
   "cell_type": "markdown",
   "metadata": {},
   "source": [
    "Load and standardize data from: [DFT training set from Evans, Jack D., and François-Xavier Coudert. \"Predicting the mechanical properties of zeolite frameworks by machine learning.\" Chemistry of Materials 29, no. 18 (2017): 7833-7839.]\n",
    "\n",
    "For demonstration purposes, we will add 1000 normally distributed covariates to the data set.\n",
    "These covariates contain no information, and including the covariates in the model is expected to cause overfitting. "
   ]
  },
  {
   "cell_type": "code",
   "execution_count": 7,
   "metadata": {},
   "outputs": [],
   "source": [
    "# Load\n",
    "data = pd.read_csv(\"data/zeolite_mech.csv\", low_memory = False)\n",
    "covariate_name = ['density', 'spg', 'volume', 'SiOSi_average', 'SiO_average', 'max_dim',\n",
    "                  'largest_free_sphere', 'VolFrac', 'ASA', 'AV']\n",
    "x = np.array(data['g_gbr'])\n",
    "t = np.array(data[covariate_name])\n",
    "\n",
    "# Add normally distributed, random features\n",
    "len_rand_coefs = 1000\n",
    "fake_data = np.random.normal(size=(len(data), len_rand_coefs))\n",
    "t = np.concatenate((t, fake_data), axis=1)\n",
    "fake_coefs = [\"rand_\"+str(i) for i in range(len_rand_coefs)]\n",
    "covariate_name = covariate_name + fake_coefs\n",
    "\n",
    "# Standardize\n",
    "n_e = len(x)\n",
    "n_t = len(t[0,:])\n",
    "t_cen = np.zeros((n_e, n_t))\n",
    "x_cen = (x - np.sum(x) / n_e)\n",
    "x_cen /= np.sqrt(np.sum(x_cen ** 2) / (n_e - 1))\n",
    "for i in range(n_t):\n",
    "    t_cen[:, i] = (t[:, i] - np.sum(t[:, i]) / n_e)\n",
    "    t_cen[:, i] /= np.sqrt(np.sum(t_cen[:, i] ** 2) / (n_e - 1))"
   ]
  },
  {
   "cell_type": "markdown",
   "metadata": {},
   "source": [
    "Solutions\n",
    "---------"
   ]
  },
  {
   "cell_type": "markdown",
   "metadata": {},
   "source": [
    "1. Why do we apply regularization techniques? Comment on the differences between RIDGE and LASSO regularization. Specifically, which regularization technique produces weights of zero, and why would you want to use LASSO instead of RIDGE?"
   ]
  },
  {
   "cell_type": "markdown",
   "metadata": {},
   "source": [
    "Regularization is used to simplify a model for fitting data by minimizing contribution from the less significant covariates. By applying regularization, a model is developed around the covariates which have the largest impact on fitting the data, i.e. covariates with the largest coefficients in terms of magnitude. Both RIDGE and LASSO utilize a cost function to bias towards minimizing the non-contributing coefficients. The RIDGE contribution to the cost function is quadratic with a (a fit parameter), while the LASSO contribution is linear with a. The RIDGE algorithm proportionally reduces all of the coefficients in the model by the same constant, regardless of the magnitude of the coefficient. While LASSO is more effective at filtering the coefficients that are smaller because the algorithm is biased based on the magnitude of the coefficient. LASSO will produce weights of zero once they have passed a certain threshold, while RIDEG will never actually have a weight of zero, it will only approach it. It is beneficial to use LASSO instead of RIDGE when fitting data with many covariates where a significant amount of them are suspected to be insignficant, because then their weights can actually be set to zero."
   ]
  },
  {
   "cell_type": "markdown",
   "metadata": {},
   "source": [
    "2. We provide standardized data from the zeolite exercise. Fit this data using the following models and report the resulting $R^2$ values. Which model produces the strongest $R^2$? **Hint:** Apply the `LinearRegression`, `Ridge`, and `Lasso` classes in `sklearn.linear_model`.\n",
    "\n",
    "    (a) Standard linear regression\n",
    "\n",
    "    (b) Ridge regression ($\\lambda = 1$)\n",
    "\n",
    "    (c) Lasso regression ($\\lambda = 1$)"
   ]
  },
  {
   "cell_type": "code",
   "execution_count": 86,
   "metadata": {},
   "outputs": [
    {
     "name": "stdout",
     "output_type": "stream",
     "text": [
      "Linear regression: 1.0\n",
      "Ridge: 0.9999989983164126\n",
      "Lasso: 0.0\n"
     ]
    }
   ],
   "source": [
    "lam = 1\n",
    "lin_reg = linear_model.LinearRegression(fit_intercept = False)\n",
    "fit_reg = lin_reg.fit(t_cen, x_cen)\n",
    "r2_reg = fit_reg.score(t_cen,x_cen)\n",
    "print('Linear regression:', r2_reg)\n",
    "\n",
    "ridge = linear_model.Ridge(alpha=lam, fit_intercept = False)\n",
    "fit_ridge = ridge.fit(t_cen, x_cen)\n",
    "r2_ridge = fit_ridge.score(t_cen,x_cen)\n",
    "print('Ridge:', r2_ridge)\n",
    "\n",
    "lasso = linear_model.Lasso(alpha=lam, fit_intercept = False)\n",
    "fit_lasso = lasso.fit(t_cen, x_cen)\n",
    "r2_lasso = fit_lasso.score(t_cen,x_cen)\n",
    "print('Lasso:', r2_lasso)"
   ]
  },
  {
   "cell_type": "markdown",
   "metadata": {},
   "source": [
    "Both linear regression and RIDGE have the similarly strong R2 values of ~1."
   ]
  },
  {
   "cell_type": "markdown",
   "metadata": {},
   "source": [
    "3. Randomly isolate 50 % of the zeolite examples in what is called the \"training set.\" Assign the remaining 50 % of examples to a \"test set.\" You will learn more about training/test splits during week 5. Fit the same three models from problem 2 on the training set, and evaluate $R^2$ on the test set. **Hint:** Use the `train_test_split` function from `sklearn.model_selection` to separate the training and test sets."
   ]
  },
  {
   "cell_type": "code",
   "execution_count": 87,
   "metadata": {},
   "outputs": [
    {
     "name": "stdout",
     "output_type": "stream",
     "text": [
      "Linear regression: 0.2756660688702407\n",
      "Ridge: 0.27562930244312356\n",
      "Lasso: -0.0003647362901373352\n"
     ]
    }
   ],
   "source": [
    "t_cen_train, t_cen_test, x_cen_train, x_cen_test = train_test_split(t_cen, x_cen, test_size = 0.5, shuffle=True)\n",
    "lam = 1\n",
    "lin_reg_50 = linear_model.LinearRegression(fit_intercept = False)\n",
    "fit_reg_50 = lin_reg_50.fit(t_cen_train, x_cen_train)\n",
    "r2_reg_test = fit_reg_50.score(t_cen_test, x_cen_test)\n",
    "print('Linear regression:', r2_reg_test)\n",
    "\n",
    "ridge_50 = linear_model.Ridge(alpha=lam, fit_intercept = False)\n",
    "fit_ridge_50 = ridge_50.fit(t_cen_train, x_cen_train)\n",
    "r2_ridge_test = fit_ridge_50.score(t_cen_test,x_cen_test)\n",
    "print('Ridge:', r2_ridge_test)\n",
    "\n",
    "lasso_50 = linear_model.Lasso(alpha=lam, fit_intercept = False)\n",
    "fit_lasso_50 = lasso_50.fit(t_cen_train, x_cen_train)\n",
    "r2_lasso_test = fit_lasso_50.score(t_cen_test,x_cen_test)\n",
    "print('Lasso:', r2_lasso_test)"
   ]
  },
  {
   "cell_type": "markdown",
   "metadata": {},
   "source": [
    "4. What do you notice about the value of $R^2$ in the training and test sets for the standard linear regression and regularized regression models? What do discrepancies in $R^2$ values tell us about overfitting?"
   ]
  },
  {
   "cell_type": "markdown",
   "metadata": {},
   "source": [
    "Lasso and linear regression have strong performance when the entire data set is modeled (Q2). But when we try to apply the model of a training set to a test set, we see a relatively poor fit for both linear regression and RIDGE, and even worse for LASSO. The low R2 values (less then 0.5, but greater than 0) indicate that the model performed well at fitting the training set (since a large number of covariates and therefore more flexibility), but it appears to be too accurate of a fit that it could not be applied to other data sets such as the test data. This is known as over-fitting and reduces the generalizability of the model. The negative R2 value for the lasso model indicates that we are under-fitting the model due to over-penalizing."
   ]
  },
  {
   "cell_type": "markdown",
   "metadata": {},
   "source": [
    "5. Re-fit the lasso regression model from problem 2 on the training set for the following values of $\\lambda$: 0.1, 0.25, 0.5, 0.75, 0.9. Evaluate the $R^2$ value of each model on the test set. Describe the effect of $\\lambda$ on model generalizability. Notice that `sklearn.linear_model` accepts the regularization parameter $\\lambda$ in the optional argument \"alpha\" during class initialization."
   ]
  },
  {
   "cell_type": "code",
   "execution_count": 90,
   "metadata": {},
   "outputs": [
    {
     "name": "stdout",
     "output_type": "stream",
     "text": [
      "Lambda= 0.1 : 0.7659998995525089\n",
      "Lambda= 0.25 : 0.7545569516043661\n",
      "Lambda= 0.5 : 0.545134921004281\n",
      "Lambda= 0.75 : 0.20112061502165546\n",
      "Lambda= 0.9 : -0.0003647362901373352\n"
     ]
    }
   ],
   "source": [
    "lam_lasso = [0.1, 0.25, 0.5, 0.75, 0.9]\n",
    "for lam in lam_lasso:\n",
    "    lasso_lam = linear_model.Lasso(alpha=lam, fit_intercept = False)\n",
    "    fit_lasso_lam = lasso_lam.fit(t_cen_train, x_cen_train)\n",
    "    r2_lasso_lam = fit_lasso_lam.score(t_cen_test,x_cen_test)\n",
    "    print('Lambda=', lam, ':', r2_lasso_lam)"
   ]
  },
  {
   "cell_type": "markdown",
   "metadata": {},
   "source": [
    "With decreasing lambda, we see that the model becomes more generalizable since the R2 values are improving in fitting the test data set."
   ]
  },
  {
   "cell_type": "markdown",
   "metadata": {},
   "source": [
    "6. For each lasso regression model from problem 5, plot the magnitude of coefficients for the top 20 contributing covariates.\n",
    "How does changing $\\lambda$ affect the magnitude of these coefficients?"
   ]
  },
  {
   "cell_type": "code",
   "execution_count": 91,
   "metadata": {},
   "outputs": [
    {
     "data": {
      "image/png": "[encoded data removed]",
      "text/plain": [
       "<Figure size 432x288 with 1 Axes>"
      ]
     },
     "metadata": {
      "needs_background": "light"
     },
     "output_type": "display_data"
    }
   ],
   "source": [
    "lam_lasso = [0.1, 0.25, 0.5, 0.75, 0.9]\n",
    "#coeffs = np.zeros((len(lam_lasso), 20))\n",
    "\n",
    "plt.figure()\n",
    "font = {'family' : 'serif',\n",
    "        'weight':'normal',\n",
    "        'size': 18}\n",
    "plt.rc('font', **font)\n",
    "\n",
    "for i in range(len(lam_lasso)):\n",
    "    lasso = linear_model.Lasso(alpha=lam_lasso[i]).fit(t_cen_train, x_cen_train)\n",
    "    coeffs_all = lasso.coef_\n",
    "    ind = np.argsort(np.abs(coeffs_all))\n",
    "    coeffs_top20 = coeffs_all[ind][-20:]\n",
    "    #ind20 = ind[-20:]\n",
    "    #print(ind20)\n",
    "    #covariates = covariate_name[ind20] couldn't figure out how to plot covariate names:(\n",
    "    \n",
    "    plt.plot(np.abs(coeffs_top20), label=lam_lasso[i])\n",
    "    plt.legend()\n",
    "    plt.ylabel('Covariate Coeff')"
   ]
  },
  {
   "cell_type": "markdown",
   "metadata": {},
   "source": [
    "Increasing lambda decreases the magnitude of the covariates."
   ]
  },
  {
   "cell_type": "code",
   "execution_count": null,
   "metadata": {},
   "outputs": [],
   "source": []
  }
 ],
 "metadata": {
  "kernelspec": {
   "display_name": "Python 3",
   "language": "python",
   "name": "python3"
  },
  "language_info": {
   "codemirror_mode": {
    "name": "ipython",
    "version": 3
   },
   "file_extension": ".py",
   "mimetype": "text/x-python",
   "name": "python",
   "nbconvert_exporter": "python",
   "pygments_lexer": "ipython3",
   "version": "3.8.5"
  }
 },
 "nbformat": 4,
 "nbformat_minor": 2
}
