{
 "cells": [
  {
   "cell_type": "markdown",
   "metadata": {},
   "source": [
    "Homework 2\n",
    "==========\n",
    "\n",
    "In this homework...\n",
    "\n",
    "* Parse a data set of annual CO2 emissions by country/region\n",
    "\n",
    "* Demonstrate the central limit theorem\n",
    "\n",
    "* Compare the mean CO2 emissions of countries using ANOVA\n",
    "\n",
    "Data Source: https://github.com/owid/co2-data"
   ]
  },
  {
   "cell_type": "markdown",
   "metadata": {},
   "source": [
    "Problem statement\n",
    "-----------------------"
   ]
  },
  {
   "cell_type": "markdown",
   "metadata": {},
   "source": [
    "1. From `data/global_CO2_emissions.csv`, load columns `country`, `year`, and `co2` into a Pandas data frame using the `pd.read_csv` function. Organize the data frame such that country name serves as the indexing column. Delete any rows with missing values. Print the head of the data frame using the `.head()` method.\n",
    "\n",
    "2. Isolate available records of CO2 emissions from all countries/regions for the years 2000 and 2010. Print the head of the updated data frame.\n",
    "\n",
    "3. Randomly draw (with replacement) 100 samples of 10 countries/regions each, and plot the distribution of the mean 2010 CO2 emissions for these 100 samples.\n",
    "\n",
    "4. Randomly draw (with replacement) 100 samples of 40 countries/regions each, and plot the distribution of the mean 2010 CO2 emissions for these 100 samples. Repeat the process for sample sizes of 60, 80, 100, 200 countries/regions. What do you observe?\n",
    "\n",
    "5. Filter out the top 15 percent of countries/regions by emissions for the year 2000 and 2010. Generate a quantile-quantile plot to assess the distribution of CO2 emissions for the remaining countries. Do CO2 emissions appear roughly normally distributed in each year? Describe the distribution you observe. Is a t-test an appropriate method for comparing the mean CO2 emissions between 2000 and 2010 for these countries/regions?\n",
    "\n",
    "6. Log transform the CO2 emissions in 2000 and 2010 and reassess normality, leaving out the top 15% of countries/regions.\n",
    "\n",
    "7. Assuming that required assumptions hold, compare the mean log-transformed CO2 emissions in 2000 and 2010 using a t-test. State the null and alternative hypotheses of this test. Is there a statistically significant difference in mean CO2 emissions emissions during these years?\n",
    "\n",
    "8. Interpret the meaning of the p-value. What does the p-value represent?"
   ]
  },
  {
   "cell_type": "markdown",
   "metadata": {},
   "source": [
    "Import modules"
   ]
  },
  {
   "cell_type": "code",
   "execution_count": 68,
   "metadata": {},
   "outputs": [],
   "source": [
    "import numpy as np\n",
    "import pandas as pd\n",
    "import matplotlib.pyplot as plt\n",
    "import scipy.stats as stats"
   ]
  },
  {
   "cell_type": "markdown",
   "metadata": {},
   "source": [
    "Define a two-sided t-test"
   ]
  },
  {
   "cell_type": "code",
   "execution_count": 63,
   "metadata": {},
   "outputs": [],
   "source": [
    "def Welch_Satterthwaite_equation(stdev_1, stdev_2, n_1, n_2):\n",
    "    \"\"\"Get the degrees of freedom for a two-sample t-test with unqual sample variances.\n",
    "\n",
    "    When two samples have an unequal variance, the \"approximate effective degrees of\n",
    "    freedom\" for a t-test comparing their means is given by the Welch-Satterthwaite\n",
    "    equation. The origin of this approximation is beyond the scope of this class, and is\n",
    "    discussed in:\n",
    "\n",
    "    1. https://doi.org/10.2307/3002019 (Satterthwaite 1946)\n",
    "    2. https://doi.org/10.2307/2332510 (Welch 1947)\n",
    "\n",
    "    Parameters\n",
    "    ----------\n",
    "    stdev_1, stdev_2 : float\n",
    "        Standard deviation of the first and second samples\n",
    "    n_1, n_2 : float\n",
    "        Number of data points in the first and second samples\n",
    "\n",
    "    Returns\n",
    "    -------\n",
    "    float\n",
    "        Degrees of freedom for a two-sample\n",
    "    \"\"\"\n",
    "    return round(\n",
    "        (stdev_1**2 / n_1 + stdev_2**2 / n_2) ** 2 /\n",
    "            (stdev_1 ** 4 / (n_1 ** 2 * (n_1 - 1)) +\n",
    "                stdev_2 ** 4 / (n_2 ** 2 * (n_2 - 1)))\n",
    "    )\n",
    "\n",
    "def t_test_two_sided(set_1, set_2):\n",
    "    \"\"\"Run a t-test on the two data sets.\n",
    "\n",
    "    Parameters\n",
    "    ----------\n",
    "    set_1: np.ndarray\n",
    "        First sample of data points in hypothesis test\n",
    "    set_2: np.ndarray\n",
    "        Second sample of data points in hypothesis test\n",
    "\n",
    "    Returns\n",
    "    -------\n",
    "    P-value for a two-sided hypothesis test where the null hypothesis is that\n",
    "        the mean is zero and the alternative hypothesis is that the mean is not zero\n",
    "    \"\"\"\n",
    "    # Calculate means, standard deviations, and sample sizes\n",
    "    mean_1 = np.average(set_1)\n",
    "    mean_2 = np.average(set_2)\n",
    "    stdev_1 = np.std(set_1)\n",
    "    stdev_2 = np.std(set_2)\n",
    "    n_1 = len(set_1)\n",
    "    n_2 = len(set_2)\n",
    "\n",
    "    # Calculate degrees of freedom\n",
    "    df = Welch_Satterthwaite_equation(stdev_1, stdev_2, n_1, n_2)\n",
    "\n",
    "    # Generate t-statistic\n",
    "    t = (mean_1 - mean_2) / (np.sqrt(stdev_1**2/n_1 + stdev_2**2/n_2))\n",
    "    \n",
    "    # return p-value\n",
    "    return stats.t.sf(np.abs(t), df) * 2 "
   ]
  },
  {
   "cell_type": "markdown",
   "metadata": {},
   "source": [
    "1. From `data/global_CO2_emissions.csv`, load columns `country`, `year`, and `co2` into a Pandas data frame using the `pd.read_csv` function. Organize the data frame such that country name serves as the indexing column. Print the head of the data frame using the `.head()` method."
   ]
  },
  {
   "cell_type": "code",
   "execution_count": 161,
   "metadata": {},
   "outputs": [
    {
     "data": {
      "text/html": [
       "<div>\n",
       "<style scoped>\n",
       "    .dataframe tbody tr th:only-of-type {\n",
       "        vertical-align: middle;\n",
       "    }\n",
       "\n",
       "    .dataframe tbody tr th {\n",
       "        vertical-align: top;\n",
       "    }\n",
       "\n",
       "    .dataframe thead th {\n",
       "        text-align: right;\n",
       "    }\n",
       "</style>\n",
       "<table border=\"1\" class=\"dataframe\">\n",
       "  <thead>\n",
       "    <tr style=\"text-align: right;\">\n",
       "      <th></th>\n",
       "      <th>year</th>\n",
       "      <th>co2</th>\n",
       "    </tr>\n",
       "    <tr>\n",
       "      <th>country</th>\n",
       "      <th></th>\n",
       "      <th></th>\n",
       "    </tr>\n",
       "  </thead>\n",
       "  <tbody>\n",
       "    <tr>\n",
       "      <th>Afghanistan</th>\n",
       "      <td>1949</td>\n",
       "      <td>0.015</td>\n",
       "    </tr>\n",
       "    <tr>\n",
       "      <th>Afghanistan</th>\n",
       "      <td>1950</td>\n",
       "      <td>0.084</td>\n",
       "    </tr>\n",
       "    <tr>\n",
       "      <th>Afghanistan</th>\n",
       "      <td>1951</td>\n",
       "      <td>0.092</td>\n",
       "    </tr>\n",
       "    <tr>\n",
       "      <th>Afghanistan</th>\n",
       "      <td>1952</td>\n",
       "      <td>0.092</td>\n",
       "    </tr>\n",
       "    <tr>\n",
       "      <th>Afghanistan</th>\n",
       "      <td>1953</td>\n",
       "      <td>0.106</td>\n",
       "    </tr>\n",
       "  </tbody>\n",
       "</table>\n",
       "</div>"
      ],
      "text/plain": [
       "             year    co2\n",
       "country                 \n",
       "Afghanistan  1949  0.015\n",
       "Afghanistan  1950  0.084\n",
       "Afghanistan  1951  0.092\n",
       "Afghanistan  1952  0.092\n",
       "Afghanistan  1953  0.106"
      ]
     },
     "execution_count": 161,
     "metadata": {},
     "output_type": "execute_result"
    }
   ],
   "source": [
    "data = pd.read_csv(\"data/global_CO2_emissions.csv\", header=0)\n",
    "exp_data = data[['country', 'year','co2']]\n",
    "exp_data = exp_data.set_index('country')\n",
    "exp_data.head()"
   ]
  },
  {
   "cell_type": "markdown",
   "metadata": {},
   "source": [
    "2. Isolate available records of CO2 emissions from all countries for the years 2000 and 2010. Print the head of the updated data frame."
   ]
  },
  {
   "cell_type": "code",
   "execution_count": 162,
   "metadata": {},
   "outputs": [
    {
     "data": {
      "text/html": [
       "<div>\n",
       "<style scoped>\n",
       "    .dataframe tbody tr th:only-of-type {\n",
       "        vertical-align: middle;\n",
       "    }\n",
       "\n",
       "    .dataframe tbody tr th {\n",
       "        vertical-align: top;\n",
       "    }\n",
       "\n",
       "    .dataframe thead th {\n",
       "        text-align: right;\n",
       "    }\n",
       "</style>\n",
       "<table border=\"1\" class=\"dataframe\">\n",
       "  <thead>\n",
       "    <tr style=\"text-align: right;\">\n",
       "      <th></th>\n",
       "      <th>year</th>\n",
       "      <th>co2</th>\n",
       "    </tr>\n",
       "    <tr>\n",
       "      <th>country</th>\n",
       "      <th></th>\n",
       "      <th></th>\n",
       "    </tr>\n",
       "  </thead>\n",
       "  <tbody>\n",
       "    <tr>\n",
       "      <th>Afghanistan</th>\n",
       "      <td>2000</td>\n",
       "      <td>0.758</td>\n",
       "    </tr>\n",
       "    <tr>\n",
       "      <th>Afghanistan</th>\n",
       "      <td>2010</td>\n",
       "      <td>8.398</td>\n",
       "    </tr>\n",
       "    <tr>\n",
       "      <th>Africa</th>\n",
       "      <td>2000</td>\n",
       "      <td>880.469</td>\n",
       "    </tr>\n",
       "    <tr>\n",
       "      <th>Africa</th>\n",
       "      <td>2010</td>\n",
       "      <td>1206.780</td>\n",
       "    </tr>\n",
       "    <tr>\n",
       "      <th>Albania</th>\n",
       "      <td>2000</td>\n",
       "      <td>3.004</td>\n",
       "    </tr>\n",
       "  </tbody>\n",
       "</table>\n",
       "</div>"
      ],
      "text/plain": [
       "             year       co2\n",
       "country                    \n",
       "Afghanistan  2000     0.758\n",
       "Afghanistan  2010     8.398\n",
       "Africa       2000   880.469\n",
       "Africa       2010  1206.780\n",
       "Albania      2000     3.004"
      ]
     },
     "execution_count": 162,
     "metadata": {},
     "output_type": "execute_result"
    }
   ],
   "source": [
    "years = [2000, 2010]\n",
    "exp_data = exp_data[exp_data.year.isin(years)]\n",
    "exp_data.head()"
   ]
  },
  {
   "cell_type": "markdown",
   "metadata": {},
   "source": [
    "3. Randomly draw (with replacement) 100 samples of 10 countries/regions each, and plot the distribution of the mean 2010 CO2 emissions for these 100 samples."
   ]
  },
  {
   "cell_type": "code",
   "execution_count": 163,
   "metadata": {},
   "outputs": [
    {
     "data": {
      "image/png": "[encoded data removed]",
      "text/plain": [
       "<Figure size 432x288 with 1 Axes>"
      ]
     },
     "metadata": {
      "needs_background": "light"
     },
     "output_type": "display_data"
    }
   ],
   "source": [
    "num_exp = 10\n",
    "num_realizations = 100\n",
    "\n",
    "data_2010 = exp_data.loc[exp_data['year'] == 2010]\n",
    "\n",
    "y = np.array([])\n",
    "for i_exp in range(num_realizations):\n",
    "    y = np.append(y, np.mean(np.random.choice(data_2010['co2'], num_exp))) #prop_x is 2010 emissions\n",
    "\n",
    "y = y[~np.isnan(y)]\n",
    "#print(y)\n",
    "#generate probability array\n",
    "x = np.linspace(0, np.max(y), num_exp)\n",
    "prob_y, x_bin = np.histogram(y, bins=x, density = True)\n",
    "\n",
    "plt.figure()\n",
    "font = {'family' : 'serif',\n",
    "        'weight':'normal',\n",
    "        'size': 18}\n",
    "plt.rc('font', **font)\n",
    "#print(prob_y)\n",
    "\n",
    "#plt.plot(x[:-1],prob_y)\n",
    "plt.hist(y,x_bin) #both are fine\n",
    "\n",
    "plt.xlabel('Outcome $x$')\n",
    "plt.ylabel('Probability')\n",
    "\n",
    "plt.show()"
   ]
  },
  {
   "cell_type": "markdown",
   "metadata": {},
   "source": [
    "4. Randomly draw (with replacement) 100 samples of 40 countries/regions each, and plot the distribution of the mean 2010 CO2 emissions for these 100 samples. Repeate the process for sample sizes of 60, 80, 100, 200 countries/regions. What do you observe?"
   ]
  },
  {
   "cell_type": "code",
   "execution_count": 166,
   "metadata": {},
   "outputs": [
    {
     "data": {
      "image/png": "[encoded data removed]",
      "text/plain": [
       "<Figure size 432x288 with 1 Axes>"
      ]
     },
     "metadata": {
      "needs_background": "light"
     },
     "output_type": "display_data"
    }
   ],
   "source": [
    "num_exp = 40\n",
    "num_realizations = 100\n",
    "\n",
    "data_2010 = exp_data.loc[exp_data['year'] == 2010]\n",
    "\n",
    "y = np.array([])\n",
    "for i_exp in range(num_realizations):\n",
    "    y = np.append(y, np.mean(np.random.choice(data_2010['co2'], num_exp))) #prop_x is 2010 emissions\n",
    "\n",
    "y = y[~np.isnan(y)]\n",
    "\n",
    "#generate probability array\n",
    "x = np.linspace(0, np.max(y), num_exp)\n",
    "prob_y, x_bin = np.histogram(y, bins=x, density = True)\n",
    "\n",
    "plt.figure()\n",
    "font = {'family' : 'serif',\n",
    "        'weight':'normal',\n",
    "        'size': 18}\n",
    "plt.rc('font', **font)\n",
    "\n",
    "#plt.plot(x[:-1],prob_y)\n",
    "plt.hist(y,x_bin)\n",
    "\n",
    "plt.xlabel('Outcome $x$')\n",
    "plt.ylabel('Probability')\n",
    "\n",
    "plt.show()\n"
   ]
  },
  {
   "cell_type": "code",
   "execution_count": 167,
   "metadata": {},
   "outputs": [
    {
     "data": {
      "image/png": "[encoded data removed]",
      "text/plain": [
       "<Figure size 432x288 with 1 Axes>"
      ]
     },
     "metadata": {
      "needs_background": "light"
     },
     "output_type": "display_data"
    },
    {
     "data": {
      "image/png": "[encoded data removed]",
      "text/plain": [
       "<Figure size 432x288 with 1 Axes>"
      ]
     },
     "metadata": {
      "needs_background": "light"
     },
     "output_type": "display_data"
    },
    {
     "data": {
      "image/png": "[encoded data removed]",
      "text/plain": [
       "<Figure size 432x288 with 1 Axes>"
      ]
     },
     "metadata": {
      "needs_background": "light"
     },
     "output_type": "display_data"
    },
    {
     "data": {
      "image/png": "[encoded data removed]",
      "text/plain": [
       "<Figure size 432x288 with 1 Axes>"
      ]
     },
     "metadata": {
      "needs_background": "light"
     },
     "output_type": "display_data"
    }
   ],
   "source": [
    "num_exp = [60,80,100,200]\n",
    "num_realizations = 100\n",
    "\n",
    "data_2010 = exp_data.loc[exp_data['year'] == 2010]\n",
    "\n",
    "for i in num_exp:\n",
    "    y = np.array([])\n",
    "    for i_exp in range(num_realizations):\n",
    "        y = np.append(y, np.mean(np.random.choice(data_2010['co2'], i))) #prop_x is 2010 emissions\n",
    "\n",
    "    y = y[~np.isnan(y)]\n",
    "\n",
    "    #generate probability array\n",
    "    x = np.linspace(0, np.max(y), i)\n",
    "    prob_y, x_bin = np.histogram(y, bins=x, density = True)\n",
    "\n",
    "    plt.figure()\n",
    "    font = {'family' : 'serif',\n",
    "            'weight':'normal',\n",
    "            'size': 18}\n",
    "    plt.rc('font', **font)\n",
    "\n",
    "    #plt.plot(x[:-1],prob_y)\n",
    "    plt.hist(y,25)\n",
    "\n",
    "    plt.xlabel('Outcome $x$')\n",
    "    plt.ylabel('Probability')\n",
    "\n",
    "    plt.show()\n",
    "\n"
   ]
  },
  {
   "cell_type": "markdown",
   "metadata": {},
   "source": [
    "We observe that the \"outcome x\" range keeps getting smaller with increasing realizations/sample sizes. This aligns with the central limit theorem since the ditribution is becoming narrow with increasing N."
   ]
  },
  {
   "cell_type": "markdown",
   "metadata": {},
   "source": [
    "5. Filter out the top 15 percent of countries/regions by emissions for the year 2000 and 2010. Generate a quantile-quantile plot to assess the distribution of CO2 emissions for the remaining countries. Do CO2 emissions appear roughly normally distributed in each year? Describe the distribution you observe. Is a t-test an appropriate method for comparing the mean CO2 emissions between 2000 and 2010 for these countries/regions?"
   ]
  },
  {
   "cell_type": "code",
   "execution_count": 168,
   "metadata": {},
   "outputs": [
    {
     "data": {
      "image/png": "[encoded data removed]",
      "text/plain": [
       "<Figure size 648x360 with 2 Axes>"
      ]
     },
     "metadata": {
      "needs_background": "light"
     },
     "output_type": "display_data"
    }
   ],
   "source": [
    "#t_test file\n",
    "data_2000 = exp_data.loc[exp_data['year'] == 2000]\n",
    "\n",
    "data_2000 = data_2000[~np.isnan(data_2000['co2'])]\n",
    "data_2010 = data_2010[~np.isnan(data_2010['co2'])]\n",
    "\n",
    "top15_2000 = data_2000['co2'].quantile(.85)\n",
    "top15_2010 = data_2010['co2'].quantile(.85)\n",
    "\n",
    "co2_2000_top15 = data_2000[data_2000['co2']<top15_2000]\n",
    "co2_2010_top15 = data_2010[data_2010['co2']<top15_2010]\n",
    "\n",
    "fig, axes = plt.subplots(nrows=1, ncols=2, figsize=(9, 5), sharex=True, sharey=True)\n",
    "ax0, ax1 = axes.flatten()\n",
    "stats.probplot(co2_2000_top15['co2'], dist=\"norm\", plot=ax0)\n",
    "ax0.set_title(\"2000\")\n",
    "stats.probplot(co2_2010_top15['co2'], dist=\"norm\", plot=ax1)\n",
    "ax1.set_title(\"2010\")\n",
    "\n",
    "plt.show()"
   ]
  },
  {
   "cell_type": "markdown",
   "metadata": {},
   "source": [
    "No, the CO2 emissions do not appear normally distributed for 2000 or 2010. If they were, they would follow the linear regression indicating that the observed values are linearly related to the theoretical quantiles.\n",
    "No, a t-test in not an appropriate method because the data does not appear gaussian/normally ditributed.\n",
    "This data appears to follow an exponential ditribution as observed with the growing difference between the linear regression and the data as the theoretical quantile increases."
   ]
  },
  {
   "cell_type": "markdown",
   "metadata": {},
   "source": [
    "6. Log transform the CO2 emissions in 2000 and 2010 and reassess normality, leaving out the top 15% of countries/regions.."
   ]
  },
  {
   "cell_type": "code",
   "execution_count": 169,
   "metadata": {},
   "outputs": [
    {
     "data": {
      "image/png": "[encoded data removed]",
      "text/plain": [
       "<Figure size 648x360 with 2 Axes>"
      ]
     },
     "metadata": {
      "needs_background": "light"
     },
     "output_type": "display_data"
    }
   ],
   "source": [
    "data_2000_log = np.log(data_2000['co2'])\n",
    "data_2010_log = np.log(data_2010['co2'])\n",
    "\n",
    "top15_2000_log = data_2000_log.quantile(.85)\n",
    "top15_2010_log = data_2010_log.quantile(.85)\n",
    "\n",
    "co2_2000_top15_log = data_2000_log[data_2000_log<top15_2000_log]\n",
    "co2_2010_top15_log = data_2010_log[data_2010_log<top15_2010_log]\n",
    "\n",
    "fig, axes = plt.subplots(nrows=1, ncols=2, figsize=(9, 5), sharex=True, sharey=True)\n",
    "ax0, ax1 = axes.flatten()\n",
    "stats.probplot(co2_2000_top15_log, dist=\"norm\", plot=ax0)\n",
    "ax0.set_title(\"2000\")\n",
    "stats.probplot(co2_2010_top15_log, dist=\"norm\", plot=ax1)\n",
    "ax1.set_title(\"2010\")\n",
    "\n",
    "plt.show()\n"
   ]
  },
  {
   "cell_type": "markdown",
   "metadata": {},
   "source": [
    "7. Assuming that required assumptions hold, compare the mean log-transformed CO2 emissions in 2000 and 2010 using a t-test. State the null and alternative hypotheses of this test. Is there a statistically significant difference in mean CO2 emissions emissions during these years?"
   ]
  },
  {
   "cell_type": "code",
   "execution_count": 170,
   "metadata": {},
   "outputs": [
    {
     "name": "stdout",
     "output_type": "stream",
     "text": [
      "P-value:  0.2584896370847514\n"
     ]
    }
   ],
   "source": [
    "p = t_test_two_sided(co2_2000_top15_log.values, co2_2010_top15_log.values)\n",
    "\n",
    "print('P-value: ',p)"
   ]
  },
  {
   "cell_type": "markdown",
   "metadata": {},
   "source": [
    "Null hypothesis: The difference between the means of the two data sets is zero.\n",
    "Alternative hypothesis: The difference between the means of the two data sets is not zero.\n",
    "\n",
    "We fail to reject the null hypothesis because the P-value > 0.05, our confidence threshold. Therefore we cannot claim that there is significant statistical difference in the means between these two years."
   ]
  },
  {
   "cell_type": "markdown",
   "metadata": {},
   "source": [
    "8. Interpret the meaning of the p-value. What does the p-value represent?"
   ]
  },
  {
   "cell_type": "markdown",
   "metadata": {},
   "source": [
    "The p-value is the probability that an observed difference between the data sets occurred by chance. Therefore, with a p-value less than 5%, we could safely reject the null hypothesis with the chance of observing no difference in the means being very small. But since our p-value was above our desired threshold, the probability of observing no significant difference is too high to reject the null. Ultimately, a smaller p-value represents a higher probability of the observing the statistical difference between the data sets (referenced Investopedia)."
   ]
  }
 ],
 "metadata": {
  "kernelspec": {
   "display_name": "Python 3",
   "language": "python",
   "name": "python3"
  },
  "language_info": {
   "codemirror_mode": {
    "name": "ipython",
    "version": 3
   },
   "file_extension": ".py",
   "mimetype": "text/x-python",
   "name": "python",
   "nbconvert_exporter": "python",
   "pygments_lexer": "ipython3",
   "version": "3.8.5"
  }
 },
 "nbformat": 4,
 "nbformat_minor": 2
}
