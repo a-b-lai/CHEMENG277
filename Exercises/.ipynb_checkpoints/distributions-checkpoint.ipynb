{
 "cells": [
  {
   "cell_type": "markdown",
   "metadata": {},
   "source": [
    "Statistical Distributions for Sample Mean and Variance\n",
    "===========================================\n",
    "\n",
    "In this Jupyter Notebook...\n",
    "\n",
    "* Perform ANOVA on a data set showing Lithium-ion battery aging versus charging stress and number of charging cycles\n",
    "\n",
    "* Demonstrate the role of measurement error in determining whether a change in a property is statistically significant\n",
    "\n",
    "* Discuss how to report statistical confidence in a hypothesis"
   ]
  },
  {
   "cell_type": "markdown",
   "metadata": {},
   "source": [
    "Import the necessary modules"
   ]
  },
  {
   "cell_type": "code",
   "execution_count": 1,
   "metadata": {},
   "outputs": [],
   "source": [
    "import numpy as np\n",
    "import sys\n",
    "import pandas as pd\n",
    "import scipy.stats as sp\n",
    "sys.path.append('../')\n",
    "import matplotlib.pyplot as plt"
   ]
  },
  {
   "cell_type": "markdown",
   "metadata": {},
   "source": [
    "Import the data on battery resistance versus number of cycles and charging rate [see Gao, Yang, Jiuchun Jiang, Caiping Zhang, Weige Zhang, Zeyu Ma, and Yan Jiang. \"Lithium-ion battery aging mechanisms and life model under different charging stresses.\" Journal of Power Sources 356 (2017): 103-114.]"
   ]
  },
  {
   "cell_type": "code",
   "execution_count": 2,
   "metadata": {},
   "outputs": [],
   "source": [
    "charge_rate = np.array([0.5, 0.8, 1])\n",
    "resistance_0 = np.array([[0.0328, 0.0347, 0.0359],[0.0309, 0.0314, 0.0343],[0.0331, 0.0330, 0.0334]])\n",
    "resistance_650 = np.array([[0.0655, 0.0629, 0.0572],[0.0631, 0.0606, 0.0650],[0.0615, 0.0593, 0.0629]])\n",
    "resistance_750 = np.array([[0.0597, 0.0653, 0.0580],[0.0672, 0.0638, 0.0687],[0.0673, 0.0688, 0.0692]])"
   ]
  },
  {
   "cell_type": "markdown",
   "metadata": {},
   "source": [
    "Calculate the sample mean, sample variance, and grand mean for the each number of cycles"
   ]
  },
  {
   "cell_type": "code",
   "execution_count": 3,
   "metadata": {},
   "outputs": [],
   "source": [
    "m_0 = np.zeros(3)\n",
    "m_650 = np.zeros(3)\n",
    "m_750 = np.zeros(3)\n",
    "s2_0 = np.zeros(3)\n",
    "s2_650 = np.zeros(3)\n",
    "s2_750 = np.zeros(3)\n",
    "\n",
    "for i in range(3):\n",
    "    m_0[i] = np.sum(resistance_0[i, :]) / 3\n",
    "    s2_0[i] = np.sum((resistance_0[i, :] - m_0[i]) ** 2) / 2\n",
    "    m_650[i] = np.sum(resistance_650[i, :]) / 3\n",
    "    s2_650[i] = np.sum((resistance_650[i, :] - m_650[i]) ** 2) / 2\n",
    "    m_750[i] = np.sum(resistance_750[i, :]) / 3\n",
    "    s2_750[i] = np.sum((resistance_750[i, :] - m_750[i]) ** 2) / 2\n",
    "\n",
    "\n",
    "grand_mean_0 = np.sum(3 * m_0) / 9\n",
    "grand_mean_650 = np.sum(3 * m_650) / 9\n",
    "grand_mean_750 = np.sum(3 * m_750) / 9"
   ]
  },
  {
   "cell_type": "markdown",
   "metadata": {},
   "source": [
    "Plot the data versus number of cycles"
   ]
  },
  {
   "cell_type": "code",
   "execution_count": 4,
   "metadata": {},
   "outputs": [
    {
     "data": {
      "image/png": "[encoded data removed]",
      "text/plain": [
       "<Figure size 432x288 with 1 Axes>"
      ]
     },
     "metadata": {
      "needs_background": "light"
     },
     "output_type": "display_data"
    }
   ],
   "source": [
    "plt.figure()\n",
    "font = {'family' : 'serif',\n",
    "        'weight':'normal',\n",
    "        'size': 18}\n",
    "plt.rc('font', **font)\n",
    "\n",
    "for i in range(3):\n",
    "    col_val = 'C' + str(i)\n",
    "    for j in range(3):\n",
    "        plt.scatter(0, resistance_0[i, j], s = 30, color = col_val)\n",
    "        plt.scatter(650, resistance_650[i, j], s = 30, color = col_val)\n",
    "        plt.scatter(750, resistance_750[i, j], s = 30, color = col_val)\n",
    "\n",
    "for i in range(3):\n",
    "    col_val = 'C' + str(i)\n",
    "    plt.scatter(0, m_0[i], s = 100, color = col_val)\n",
    "    plt.scatter(0, m_0[i], s = 50, color = 'w')\n",
    "    \n",
    "    plt.scatter(650, m_650[i], s = 100, color = col_val)\n",
    "    plt.scatter(650, m_650[i], s = 50, color = 'w')\n",
    "\n",
    "    plt.scatter(750, m_750[i], s = 100, color = col_val)\n",
    "    plt.scatter(750, m_750[i], s = 50, color = 'w')    \n",
    "    \n",
    "\n",
    "plt.xlabel('Number of cycles')\n",
    "plt.ylabel('Resistance 1s')\n",
    "\n",
    "plt.savefig('figures/distributions/resistance.pdf', bbox_inches='tight')    \n",
    "plt.show()"
   ]
  },
  {
   "cell_type": "markdown",
   "metadata": {},
   "source": [
    "Perform ANOVA to determine if resistance is affected by charge rate"
   ]
  },
  {
   "cell_type": "code",
   "execution_count": 5,
   "metadata": {},
   "outputs": [],
   "source": [
    "sse_0 = 2 * np.sum(s2_0)\n",
    "sst_0 = 3 * np.sum((m_0 - grand_mean_0) ** 2)\n",
    "\n",
    "sse_650 = 2 * np.sum(s2_650)\n",
    "sst_650 = 3 * np.sum((m_650 - grand_mean_650) ** 2)\n",
    "\n",
    "sse_750 = 2 * np.sum(s2_750)\n",
    "sst_750 = 3 * np.sum((m_750 - grand_mean_750) ** 2)"
   ]
  },
  {
   "cell_type": "code",
   "execution_count": 6,
   "metadata": {},
   "outputs": [],
   "source": [
    "r1 = 2\n",
    "r2 = 9 - 3\n",
    "\n",
    "w_0 = sst_0 / r1 / (sse_0 / r2)\n",
    "w_650 = sst_650 / r1 / (sse_650 / r2)\n",
    "w_750 = sst_750 / r1 / (sse_750 / r2)"
   ]
  },
  {
   "cell_type": "code",
   "execution_count": 7,
   "metadata": {},
   "outputs": [
    {
     "name": "stdout",
     "output_type": "stream",
     "text": [
      "1.9880478087649436\n",
      "0.24325356415478666\n",
      "6.146597655655355\n"
     ]
    }
   ],
   "source": [
    "alpha = 0.95\n",
    "\n",
    "w_crit = sp.f.ppf(q=alpha, dfn=r1, dfd=r2)\n",
    "\n",
    "print(w_0)\n",
    "print(w_650)\n",
    "print(w_750)"
   ]
  },
  {
   "cell_type": "code",
   "execution_count": 8,
   "metadata": {},
   "outputs": [
    {
     "data": {
      "text/plain": [
       "5.143252849784718"
      ]
     },
     "execution_count": 8,
     "metadata": {},
     "output_type": "execute_result"
    }
   ],
   "source": [
    "w_crit"
   ]
  },
  {
   "cell_type": "markdown",
   "metadata": {},
   "source": [
    "Perform a similar analysis on the polarization resistance"
   ]
  },
  {
   "cell_type": "code",
   "execution_count": 9,
   "metadata": {},
   "outputs": [],
   "source": [
    "cycles = np.array([0, 150, 400, 650, 750])\n",
    "resistance_p = np.zeros((3, 3, 5))\n",
    "resistance_p[:, :, 0] = np.array([[0.0243, 0.0234, 0.0226],[0.0260, 0.0238, 0.0232],[0.0252, 0.0246, 0.0212]])\n",
    "resistance_p[:, :, 1] = np.array([[0.0273, 0.0273, 0.0257],[0.0271, 0.0277, 0.0310],[0.0284, 0.0274, 0.0287]])\n",
    "resistance_p[:, :, 2] = np.array([[0.0239, 0.0268, 0.0292],[0.0296, 0.0297, 0.0288],[0.0282, 0.0278, 0.0280]])\n",
    "resistance_p[:, :, 3] = np.array([[0.0342, 0.0363, 0.0299],[0.0387, 0.0389, 0.0382],[0.0369, 0.0350, 0.0398]])\n",
    "resistance_p[:, :, 4] = np.array([[0.0339, 0.0384, 0.0327],[0.0392, 0.0397, 0.0391],[0.0422, 0.0392, 0.0438]])"
   ]
  },
  {
   "cell_type": "markdown",
   "metadata": {},
   "source": [
    "Calculate the sample mean, sample variance, and grand mean for the each number of cycles"
   ]
  },
  {
   "cell_type": "code",
   "execution_count": 10,
   "metadata": {},
   "outputs": [
    {
     "data": {
      "text/plain": [
       "array([0.0243, 0.0234, 0.0226])"
      ]
     },
     "execution_count": 10,
     "metadata": {},
     "output_type": "execute_result"
    }
   ],
   "source": [
    "i = 0\n",
    "j = 0\n",
    "resistance_p[i, :, j]"
   ]
  },
  {
   "cell_type": "code",
   "execution_count": 11,
   "metadata": {},
   "outputs": [],
   "source": [
    "m = np.zeros((3, 5))\n",
    "s2 = np.zeros((3, 5))\n",
    "\n",
    "for i in range(3):\n",
    "    for j in range(5):\n",
    "        m[i, j] = np.sum(resistance_p[i, :, j]) / 3\n",
    "        s2[i, j] = np.sum((resistance_p[i, :, j] - m[i,j]) ** 2) / 2\n",
    "\n",
    "grand_mean = np.zeros(5)\n",
    "for j in range(5):\n",
    "    grand_mean[j] = np.sum(3 * m[:, j]) / 9"
   ]
  },
  {
   "cell_type": "code",
   "execution_count": 12,
   "metadata": {},
   "outputs": [
    {
     "data": {
      "image/png": "[encoded data removed]",
      "text/plain": [
       "<Figure size 432x288 with 1 Axes>"
      ]
     },
     "metadata": {
      "needs_background": "light"
     },
     "output_type": "display_data"
    }
   ],
   "source": [
    "plt.figure()\n",
    "font = {'family' : 'serif',\n",
    "        'weight':'normal',\n",
    "        'size': 18}\n",
    "plt.rc('font', **font)\n",
    "\n",
    "for i in range(3):\n",
    "    col_val = 'C' + str(i)\n",
    "    for j in range(3):\n",
    "        for k in range(5):\n",
    "            plt.scatter(cycles[k], resistance_p[i, j, k], s = 30, color = col_val)\n",
    "\n",
    "for i in range(3):\n",
    "    col_val = 'C' + str(i)\n",
    "    for k in range(5):\n",
    "        plt.scatter(cycles[k], m[i,k], s = 100, color = col_val)\n",
    "        plt.scatter(cycles[k], m[i,k], s = 50, color = 'w')\n",
    "\n",
    "plt.xlabel('Number of cycles')\n",
    "plt.ylabel(r'Polarization resistance ($\\Omega$)')\n",
    "\n",
    "plt.savefig('figures/distributions/resistance_p.pdf', bbox_inches='tight')    \n",
    "plt.show()"
   ]
  },
  {
   "cell_type": "code",
   "execution_count": 13,
   "metadata": {},
   "outputs": [],
   "source": [
    "sse = np.zeros(5)\n",
    "sst = np.zeros(5)\n",
    "\n",
    "for i in range(5):\n",
    "    sse[i] = 2 * np.sum(s2[:,i])\n",
    "    sst[i] = 3 * np.sum((m[:,i] - grand_mean[i]) ** 2)\n",
    "\n",
    "r1 = 2\n",
    "r2 = 9 - 3\n",
    "\n",
    "w = sst / r1 / (sse / r2)\n",
    "\n"
   ]
  },
  {
   "cell_type": "code",
   "execution_count": 14,
   "metadata": {},
   "outputs": [
    {
     "name": "stdout",
     "output_type": "stream",
     "text": [
      "5.143252849784718\n",
      "[0.26004415 1.44295693 2.29435851 3.82808425 7.18555759]\n"
     ]
    }
   ],
   "source": [
    "alpha = 0.95\n",
    "w_crit = sp.f.ppf(q=alpha, dfn=r1, dfd=r2)\n",
    "\n",
    "print(w_crit)\n",
    "print(w)"
   ]
  },
  {
   "cell_type": "code",
   "execution_count": 15,
   "metadata": {},
   "outputs": [
    {
     "data": {
      "image/png": "[encoded data removed]",
      "text/plain": [
       "<Figure size 432x288 with 1 Axes>"
      ]
     },
     "metadata": {
      "needs_background": "light"
     },
     "output_type": "display_data"
    }
   ],
   "source": [
    "plt.figure()\n",
    "font = {'family' : 'serif',\n",
    "        'weight':'normal',\n",
    "        'size': 18}\n",
    "plt.rc('font', **font)\n",
    "\n",
    "plt.scatter(cycles, w, s=60, color = 'k')\n",
    "plt.plot(cycles, np.zeros(5) + w_crit, 'k--')\n",
    "\n",
    "plt.xlabel('Number of cycles')\n",
    "plt.ylabel(r'F parameter $w$')\n",
    "\n",
    "plt.savefig('figures/distributions/f_test.pdf', bbox_inches='tight')    \n",
    "plt.show()"
   ]
  },
  {
   "cell_type": "code",
   "execution_count": null,
   "metadata": {},
   "outputs": [],
   "source": []
  }
 ],
 "metadata": {
  "kernelspec": {
   "display_name": "Python 3",
   "language": "python",
   "name": "python3"
  },
  "language_info": {
   "codemirror_mode": {
    "name": "ipython",
    "version": 3
   },
   "file_extension": ".py",
   "mimetype": "text/x-python",
   "name": "python",
   "nbconvert_exporter": "python",
   "pygments_lexer": "ipython3",
   "version": "3.7.6"
  }
 },
 "nbformat": 4,
 "nbformat_minor": 4
}
