{
 "cells": [
  {
   "cell_type": "markdown",
   "metadata": {},
   "source": [
    "Kernels and Pseudo-Linear Models\n",
    "============================\n",
    "\n",
    "In this Jupyter Notebook...\n",
    "\n",
    "* Use SVM to define the decision boundary between to linearly separable clusters within a data set\n",
    "\n",
    "* Demonstrate how $\\lambda$ affects the determination of the boundary and the margin\n",
    "\n",
    "* Apply a polynomial kernel within the SVM to model nonlinear classification"
   ]
  },
  {
   "cell_type": "markdown",
   "metadata": {},
   "source": [
    "Import the necessary modules"
   ]
  },
  {
   "cell_type": "code",
   "execution_count": 1,
   "metadata": {},
   "outputs": [],
   "source": [
    "import numpy as np\n",
    "import sys\n",
    "sys.path.append('../')\n",
    "import matplotlib.pyplot as plt\n",
    "import random\n",
    "from scipy.spatial import Voronoi, voronoi_plot_2d\n",
    "\n",
    "from sklearn import svm\n",
    "\n",
    "from pathlib import Path\n",
    "\n",
    "output_folder = Path('figures/')"
   ]
  },
  {
   "cell_type": "markdown",
   "metadata": {},
   "source": [
    "Define functions for the SVM optimization"
   ]
  },
  {
   "cell_type": "code",
   "execution_count": 2,
   "metadata": {},
   "outputs": [],
   "source": [
    "def xi_calc(x, t, w):\n",
    "    r\"\"\"\n",
    "    Calculate Xi as the summand of the hinge cost within the SVM cost function\n",
    "\n",
    "    Parameters\n",
    "    ----------\n",
    "    x : int array\n",
    "        Vector of the discrete dependent variable (negative ones and ones)\n",
    "    t : float array\n",
    "        Covariate vector\n",
    "    w : float array\n",
    "        Weight vector\n",
    "\n",
    "    Returns\n",
    "    -------\n",
    "    xi : float array\n",
    "        Evaluated $\\xi$ function for the hinge cost\n",
    "\n",
    "    \"\"\"\n",
    "\n",
    "    tw_dot = np.dot(t, w[1:]) + w[0]\n",
    "    xi = np.maximum(np.zeros(len(x)), 1 - x * tw_dot)\n",
    "\n",
    "    return xi\n",
    "\n",
    "\n",
    "def jsvm_calc(x, t, w, lam):\n",
    "    r\"\"\"\n",
    "    Calculate the SVM cost function\n",
    "\n",
    "    Parameters\n",
    "    ----------\n",
    "    x : int array\n",
    "        Vector of the discrete dependent variable (negative ones and ones)\n",
    "    t : float array\n",
    "        Covariate vector\n",
    "    w : float array\n",
    "        Weight vector\n",
    "\n",
    "    Returns\n",
    "    -------\n",
    "    jsmv : float array\n",
    "        SVM cost function\n",
    "\n",
    "    \"\"\"\n",
    "\n",
    "    n_e = len(x)\n",
    "    xi = xi_calc(x, t, w)\n",
    "\n",
    "    jsvm = np.sum(xi) + lam * n_e * np.sum(w[1:] ** 2)\n",
    "\n",
    "    return jsvm\n",
    "\n",
    "\n",
    "def jsvm_gradient_calc(x, t, w, lam):\n",
    "    r\"\"\"\n",
    "    Calculate the gradient of the SVM cost function with respect to the weight vector\n",
    "\n",
    "    Parameters\n",
    "    ----------\n",
    "    x : int array\n",
    "        Vector of the discrete dependent variable (negative ones and ones)\n",
    "    t : float array\n",
    "        Covariate vector\n",
    "    w : float array\n",
    "        Weight vector\n",
    "\n",
    "    Returns\n",
    "    -------\n",
    "    jsmv_gradient : float array\n",
    "        Gradient of JSVM\n",
    "\n",
    "    \"\"\"\n",
    "\n",
    "    n_e = len(x)\n",
    "    n_t = len(w) - 1\n",
    "    tw_dot = np.dot(t, w[1:]) + w[0]\n",
    "    h_xi = np.heaviside(1 - x * tw_dot, 1)\n",
    "\n",
    "    jsvm_grad = np.zeros(n_t + 1)\n",
    "    jsvm_grad[0] = - np.mean(h_xi * x)\n",
    "    jsvm_grad[1:] = - np.mean(np.transpose(np.transpose(t) * (h_xi * x)), axis=0) + 2 * lam * w[1:]\n",
    "    jsvm_grad *= n_e\n",
    "\n",
    "    return jsvm_grad"
   ]
  },
  {
   "cell_type": "markdown",
   "metadata": {},
   "source": [
    "Generate the random variables"
   ]
  },
  {
   "cell_type": "code",
   "execution_count": 3,
   "metadata": {},
   "outputs": [],
   "source": [
    "k_actual = 2\n",
    "x0 = np.random.uniform(-10,10,(k_actual, 2))\n",
    "ind_sort = np.argsort(x0[:, 0])\n",
    "x0 = x0[ind_sort, :]\n",
    "alpha = np.random.uniform(0,2 * np.pi, k_actual)\n",
    "st_dev = np.random.uniform(2,3.5,(k_actual,2))\n",
    "\n",
    "u0 = np.transpose(np.array([np.cos(alpha), np.sin(alpha)]))"
   ]
  },
  {
   "cell_type": "code",
   "execution_count": 4,
   "metadata": {},
   "outputs": [],
   "source": [
    "num_tot = 100\n",
    "\n",
    "x_data = np.zeros((num_tot, 2))\n",
    "ind_data = np.zeros(num_tot, dtype = 'int')\n",
    "\n",
    "for i in range(num_tot):\n",
    "    ind_i = np.random.randint(0, k_actual)\n",
    "    ind_data[i] = 2 * ind_i - 1\n",
    "    x0_i = x0[ind_i, :]\n",
    "    delx_0 = st_dev[ind_i, 0] * np.random.randn()\n",
    "    delx_1 = st_dev[ind_i, 1] * np.random.randn()\n",
    "\n",
    "    x_data[i, :] = x0_i + delx_0 * u0[0,:] + delx_1 * u0[1,:]"
   ]
  },
  {
   "cell_type": "markdown",
   "metadata": {},
   "source": [
    "Plot the raw data"
   ]
  },
  {
   "cell_type": "code",
   "execution_count": 5,
   "metadata": {},
   "outputs": [
    {
     "data": {
      "image/png": "[encoded data removed]",
      "text/plain": [
       "<Figure size 432x288 with 1 Axes>"
      ]
     },
     "metadata": {
      "needs_background": "light"
     },
     "output_type": "display_data"
    }
   ],
   "source": [
    "plt.figure()\n",
    "font = {'family' : 'serif',\n",
    "        'weight':'normal',\n",
    "        'size': 18}\n",
    "plt.rc('font', **font)\n",
    "\n",
    "plt.scatter(x_data[:, 0], x_data[:, 1])\n",
    "\n",
    "plt.xlabel('x')\n",
    "plt.ylabel('y')    \n",
    "    \n",
    "#plt.xlim([-15, 0])\n",
    "#plt.ylim([-6, 15])\n",
    "\n",
    "#plt.savefig('figures/unsupervised_learning/k_mean_data' + '.pdf', bbox_inches='tight')\n",
    "plt.show()"
   ]
  },
  {
   "cell_type": "code",
   "execution_count": 6,
   "metadata": {},
   "outputs": [
    {
     "data": {
      "image/png": "[encoded data removed]",
      "text/plain": [
       "<Figure size 432x288 with 1 Axes>"
      ]
     },
     "metadata": {
      "needs_background": "light"
     },
     "output_type": "display_data"
    }
   ],
   "source": [
    "plt.figure()\n",
    "font = {'family' : 'serif',\n",
    "        'weight':'normal',\n",
    "        'size': 18}\n",
    "plt.rc('font', **font)\n",
    "\n",
    "for i in range(num_tot):\n",
    "    col_val = 'C' + str(int((ind_data[i]+1)/2))\n",
    "    plt.scatter(x_data[i, 0], x_data[i, 1], color = col_val)\n",
    "\n",
    "    \n",
    "#plt.xlim([-15, 0])\n",
    "#plt.ylim([-6, 15])\n",
    "\n",
    "plt.savefig('figures/boundary.pdf', bbox_inches='tight')    \n",
    "plt.show()"
   ]
  },
  {
   "cell_type": "markdown",
   "metadata": {},
   "source": [
    "Assume the data is linearly separable, and train the data on a SVM with a linear kernel"
   ]
  },
  {
   "cell_type": "code",
   "execution_count": 7,
   "metadata": {},
   "outputs": [],
   "source": [
    "t = x_data\n",
    "x = ind_data"
   ]
  },
  {
   "cell_type": "code",
   "execution_count": 8,
   "metadata": {},
   "outputs": [
    {
     "data": {
      "image/png": "[encoded data removed]",
      "text/plain": [
       "<Figure size 432x288 with 1 Axes>"
      ]
     },
     "metadata": {
      "needs_background": "light"
     },
     "output_type": "display_data"
    }
   ],
   "source": [
    "w=np.array([0,0,0])\n",
    "lam=0.1\n",
    "\n",
    "del_plot = 100\n",
    "\n",
    "plt.figure()\n",
    "font = {'family' : 'serif',\n",
    "        'weight':'normal',\n",
    "        'size': 18}\n",
    "plt.rc('font', **font)\n",
    "\n",
    "dt_opt=0.00001\n",
    "num_opt=50000\n",
    "for i in range(num_opt):\n",
    "    dj_dw = jsvm_gradient_calc(x, t, w, lam)\n",
    "    w = w - dj_dw * dt_opt\n",
    "\n",
    "    if i % del_plot == 0:\n",
    "        jsmv = jsvm_calc(x, t, w, lam)\n",
    "        plt.scatter(i, jsmv)\n",
    "        \n",
    "w_grad_opt = w\n",
    "\n",
    "plt.xlabel('Number of optimization steps')    \n",
    "plt.ylabel('$J_{SVM}$')\n",
    "\n",
    "    \n",
    "plt.yscale('log')\n",
    "\n",
    "#plt.xlim([-15, 0])\n",
    "#plt.ylim([-6, 15])\n",
    "\n",
    "plt.savefig('figures/unsupervised_learning/k_mean_data' + '.pdf', bbox_inches='tight')\n",
    "plt.show()"
   ]
  },
  {
   "cell_type": "markdown",
   "metadata": {},
   "source": [
    "Perform optimization of $w$ using the svm module within sklearn "
   ]
  },
  {
   "cell_type": "code",
   "execution_count": 9,
   "metadata": {},
   "outputs": [],
   "source": [
    "lam = 0.1\n",
    "svm_train = svm.SVC(kernel='linear', C = 1 / (2 * num_tot * lam)) # Linear Kernel\n",
    "svm_train.fit(t, x)\n",
    "w = np.array([svm_train.intercept_[0], svm_train.coef_[0][0], svm_train.coef_[0][1]])\n",
    "x_pred = svm_train.predict(t)\n",
    "margin = 1 / np.sqrt(np.sum(w[1:] ** 2))\n",
    "accuracy = np.sum(x * x_pred + 1) / 2 / num_tot"
   ]
  },
  {
   "cell_type": "markdown",
   "metadata": {},
   "source": [
    "Plot the decision boundary and the label boundaries"
   ]
  },
  {
   "cell_type": "code",
   "execution_count": 10,
   "metadata": {},
   "outputs": [
    {
     "data": {
      "image/png": "[encoded data removed]",
      "text/plain": [
       "<Figure size 432x288 with 1 Axes>"
      ]
     },
     "metadata": {
      "needs_background": "light"
     },
     "output_type": "display_data"
    }
   ],
   "source": [
    "plt.figure()\n",
    "font = {'family' : 'serif',\n",
    "        'weight':'normal',\n",
    "        'size': 18}\n",
    "plt.rc('font', **font)\n",
    "\n",
    "for i in range(num_tot):\n",
    "    col_val = 'C' + str(int((ind_data[i]+1)/2))\n",
    "    plt.scatter(x_data[i, 0], x_data[i, 1], color = col_val)\n",
    "\n",
    "    \n",
    "t1 = np.linspace(-20, 20, 100)\n",
    "t2 = -w[1] / w[2] * t1 - w[0] / w[2]\n",
    "plt.plot(t1, t2, 'k-')\n",
    "plt.plot(t1, t2 + 1 / w[2], '--', color = 'C1')\n",
    "plt.plot(t1, t2 - 1 / w[2], '--', color = 'C0')\n",
    "\n",
    "t2 = -w_grad_opt[1] / w_grad_opt[2] * t1 - w_grad_opt[0] / w_grad_opt[2]\n",
    "#plt.plot(t1, t2, 'k-')\n",
    "#plt.plot(t1, t2 + 1 / w_grad_opt[2], '--', color = 'C1')\n",
    "#plt.plot(t1, t2 - 1 / w_grad_opt[2], '--', color = 'C0')\n",
    "\n",
    "plt.xlim([-15, 15])\n",
    "plt.ylim([-15, 15])\n",
    "\n",
    "#plt.savefig('figures/boundary.pdf', bbox_inches='tight')    \n",
    "plt.show()"
   ]
  },
  {
   "cell_type": "code",
   "execution_count": 11,
   "metadata": {},
   "outputs": [
    {
     "data": {
      "text/plain": [
       "array([2.71581174, 0.18182023, 0.36799652])"
      ]
     },
     "execution_count": 11,
     "metadata": {},
     "output_type": "execute_result"
    }
   ],
   "source": [
    "w"
   ]
  },
  {
   "cell_type": "code",
   "execution_count": 12,
   "metadata": {},
   "outputs": [
    {
     "data": {
      "text/plain": [
       "array([1.50319   , 0.22403252, 0.17548991])"
      ]
     },
     "execution_count": 12,
     "metadata": {},
     "output_type": "execute_result"
    }
   ],
   "source": [
    "w_grad_opt"
   ]
  },
  {
   "cell_type": "markdown",
   "metadata": {},
   "source": [
    "Generate a data set with a nonlinear decision boundary"
   ]
  },
  {
   "cell_type": "code",
   "execution_count": 13,
   "metadata": {},
   "outputs": [],
   "source": [
    "num_tot = 100\n",
    "\n",
    "x0 = np.array([0.5, 1])\n",
    "del_cutoff = 0.45\n",
    "del_bound = 0.01\n",
    "\n",
    "x_data = np.zeros((num_tot, 2))\n",
    "ind_data = np.zeros(num_tot, dtype = 'int')\n",
    "\n",
    "for i in range(num_tot):    \n",
    "    x_i = np.random.uniform(0, 1, (2))\n",
    "    del_x = np.sqrt(np.sum((x_i - x0) ** 2))\n",
    "    prob = 0.5 * (1 + np.tanh(- (del_x - del_cutoff) / del_bound))\n",
    "    x_data[i, :] = x_i\n",
    "    if np.random.uniform(0, 1) < prob:\n",
    "        ind_data[i] = 1\n",
    "    else:\n",
    "        ind_data[i] = -1"
   ]
  },
  {
   "cell_type": "code",
   "execution_count": 14,
   "metadata": {},
   "outputs": [
    {
     "data": {
      "text/plain": [
       "array([0.68560711, 0.45441363])"
      ]
     },
     "execution_count": 14,
     "metadata": {},
     "output_type": "execute_result"
    }
   ],
   "source": [
    "x_i"
   ]
  },
  {
   "cell_type": "markdown",
   "metadata": {},
   "source": [
    "Plot the raw data"
   ]
  },
  {
   "cell_type": "code",
   "execution_count": 15,
   "metadata": {},
   "outputs": [
    {
     "data": {
      "image/png": "[encoded data removed]",
      "text/plain": [
       "<Figure size 432x288 with 1 Axes>"
      ]
     },
     "metadata": {
      "needs_background": "light"
     },
     "output_type": "display_data"
    }
   ],
   "source": [
    "plt.figure()\n",
    "font = {'family' : 'serif',\n",
    "        'weight':'normal',\n",
    "        'size': 18}\n",
    "plt.rc('font', **font)\n",
    "\n",
    "plt.scatter(x_data[:, 0], x_data[:, 1])\n",
    "\n",
    "plt.xlabel('x')\n",
    "plt.ylabel('y')    \n",
    "    \n",
    "plt.xlim([0, 1])\n",
    "plt.ylim([0, 1])\n",
    "\n",
    "#plt.savefig('figures/unsupervised_learning/k_mean_data' + '.pdf', bbox_inches='tight')\n",
    "plt.show()"
   ]
  },
  {
   "cell_type": "code",
   "execution_count": 16,
   "metadata": {},
   "outputs": [
    {
     "data": {
      "image/png": "[encoded data removed]",
      "text/plain": [
       "<Figure size 432x288 with 1 Axes>"
      ]
     },
     "metadata": {
      "needs_background": "light"
     },
     "output_type": "display_data"
    }
   ],
   "source": [
    "plt.figure()\n",
    "font = {'family' : 'serif',\n",
    "        'weight':'normal',\n",
    "        'size': 18}\n",
    "plt.rc('font', **font)\n",
    "\n",
    "for i in range(num_tot):\n",
    "    col_val = 'C' + str(int((ind_data[i]+1)/2))\n",
    "    plt.scatter(x_data[i, 0], x_data[i, 1], color = col_val)\n",
    "\n",
    "plt.xlim([0, 1])\n",
    "plt.ylim([0, 1])\n",
    "\n",
    "plt.savefig('figures/nonlinear.pdf', bbox_inches='tight')    \n",
    "plt.show()"
   ]
  },
  {
   "cell_type": "markdown",
   "metadata": {},
   "source": [
    "Perform SVM analysis with a quadratic kernel"
   ]
  },
  {
   "cell_type": "code",
   "execution_count": 17,
   "metadata": {},
   "outputs": [],
   "source": [
    "t = x_data\n",
    "x = ind_data"
   ]
  },
  {
   "cell_type": "code",
   "execution_count": 18,
   "metadata": {},
   "outputs": [],
   "source": [
    "lam = 0.01\n",
    "svm_train = svm.SVC(kernel='poly', C = 1 / (2 * num_tot * lam), degree = 3) # Polynomial Kernel\n",
    "svm_train.fit(t, x)\n",
    "#w = np.array([svm_train.intercept_[0], svm_train.coef_[0][0], svm_train.coef_[0][1]])\n",
    "x_pred = svm_train.predict(t)\n",
    "margin = 1 / np.sqrt(np.sum(w[1:] ** 2))\n",
    "accuracy = np.sum(x * x_pred + 1) / 2 / num_tot"
   ]
  },
  {
   "cell_type": "code",
   "execution_count": 19,
   "metadata": {},
   "outputs": [
    {
     "data": {
      "image/png": "[encoded data removed]",
      "text/plain": [
       "<Figure size 432x288 with 1 Axes>"
      ]
     },
     "metadata": {
      "needs_background": "light"
     },
     "output_type": "display_data"
    }
   ],
   "source": [
    "plt.figure()\n",
    "font = {'family' : 'serif',\n",
    "        'weight':'normal',\n",
    "        'size': 18}\n",
    "plt.rc('font', **font)\n",
    "\n",
    "num_pt = 500\n",
    "t1 = np.linspace(0,1,num_pt)\n",
    "t2 = np.linspace(0,1,num_pt)\n",
    "predict = np.zeros((num_pt,num_pt))\n",
    "\n",
    "for i1 in range(num_pt):\n",
    "    for i2 in range(len(t2)):\n",
    "        predict[i2, i1] = svm_train.predict([[t1[i1],t2[i2]]])\n",
    "\n",
    "plt.contourf(t1, t2, predict, alpha=.8)\n",
    "\n",
    "for i in range(num_tot):\n",
    "    col_val = 'C' + str(int((ind_data[i]+1)/2))\n",
    "    plt.scatter(x_data[i, 0], x_data[i, 1], color = col_val)\n",
    "\n",
    "plt.xlim([0, 1])\n",
    "plt.ylim([0, 1])\n",
    "\n",
    "#plt.savefig('figures/nonlinear_boundary.pdf', bbox_inches='tight')    \n",
    "plt.show()"
   ]
  }
 ],
 "metadata": {
  "kernelspec": {
   "display_name": "Python 3",
   "language": "python",
   "name": "python3"
  },
  "language_info": {
   "codemirror_mode": {
    "name": "ipython",
    "version": 3
   },
   "file_extension": ".py",
   "mimetype": "text/x-python",
   "name": "python",
   "nbconvert_exporter": "python",
   "pygments_lexer": "ipython3",
   "version": "3.7.6"
  }
 },
 "nbformat": 4,
 "nbformat_minor": 4
}
