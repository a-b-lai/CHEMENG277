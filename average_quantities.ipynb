{
 "cells": [
  {
   "cell_type": "markdown",
   "metadata": {},
   "source": [
    "Determination of Average Quantities\n",
    "=============================\n",
    "\n",
    "In this Jupyter Notebook...\n",
    "\n",
    "* Analyze the behavior of a user-defined distribution (sum of Gaussians)\n",
    "\n",
    "* Determine the distribution for the sample mean (with user-defined number of experiments)\n",
    "\n",
    "* Demonstrate the limiting behavior of the distribution in comparison with the central limit theorem"
   ]
  },
  {
   "cell_type": "markdown",
   "metadata": {},
   "source": [
    "Import the necessary modules"
   ]
  },
  {
   "cell_type": "code",
   "execution_count": 1,
   "metadata": {},
   "outputs": [],
   "source": [
    "import numpy as np\n",
    "import sys\n",
    "sys.path.append('../')\n",
    "import matplotlib.pyplot as plt\n",
    "#import chemeng177.average_quantities as aq"
   ]
  },
  {
   "cell_type": "markdown",
   "metadata": {},
   "source": [
    "Define a model probability density function as a sum of Gaussians"
   ]
  },
  {
   "cell_type": "code",
   "execution_count": 2,
   "metadata": {},
   "outputs": [],
   "source": [
    "def generate_prob_array(num_pts=101, x_range=np.array([0, 100]), mu=np.array([50]),\n",
    "                        sigma=np.array([10]), weight=np.array([1])):\n",
    "    r\"\"\"\n",
    "    Generate an array of probabilities based on distribution with user-defined number of\n",
    "    Gaussian distributions\n",
    "\n",
    "    Parameters\n",
    "    ----------\n",
    "    num_pts : int\n",
    "        Number of points in the distribution\n",
    "    x_range : float array, length 2\n",
    "        minimum and maximum values of x\n",
    "    mu : float array, length = number of peaks\n",
    "        Mean values of the peaks\n",
    "    sigma : float array, length = number of peaks\n",
    "        Standard deviation of the peaks\n",
    "    weight : float array, length = number of peaks\n",
    "        Relative weight of the peaks (normalization not necessary)\n",
    "\n",
    "    Returns\n",
    "    -------\n",
    "    x : float array (length = num_pts)\n",
    "        Position of the x-values for the distribution\n",
    "    prob : float array (length = num_pts)\n",
    "        Probability at each x position\n",
    "\n",
    "    \"\"\"\n",
    "\n",
    "    # Normalize the weights of the Gaussians\n",
    "    weight = weight / np.sum(weight)\n",
    "\n",
    "    # Generate the probability array\n",
    "    prob = np.zeros(num_pts)\n",
    "    x = np.linspace(x_range[0], x_range[1], num_pts)\n",
    "    for i_gauss in range(len(mu)):\n",
    "        prob += weight[i_gauss] * 1 / np.sqrt(2 * np.pi) / sigma[i_gauss] * \\\n",
    "                np.exp(- (x - mu[i_gauss]) ** 2 / (2 * sigma[i_gauss] ** 2))\n",
    "\n",
    "    # Normalize the probabilities\n",
    "    prob = prob / np.sum(prob)\n",
    "\n",
    "    return x, prob\n"
   ]
  },
  {
   "cell_type": "markdown",
   "metadata": {},
   "source": [
    "Generate an example distribution using the default values"
   ]
  },
  {
   "cell_type": "code",
   "execution_count": 3,
   "metadata": {},
   "outputs": [],
   "source": [
    "x, prob_x = generate_prob_array()"
   ]
  },
  {
   "cell_type": "code",
   "execution_count": 4,
   "metadata": {},
   "outputs": [
    {
     "data": {
      "image/png": "[encoded data removed]",
      "text/plain": [
       "<Figure size 432x288 with 1 Axes>"
      ]
     },
     "metadata": {
      "needs_background": "light"
     },
     "output_type": "display_data"
    }
   ],
   "source": [
    "plt.figure ()\n",
    "font = {'family' : 'serif',\n",
    "        'weight':'normal',\n",
    "        'size': 18}\n",
    "plt.rc('font', **font)\n",
    "\n",
    "plt.scatter(x, prob_x)\n",
    "\n",
    "plt.xlabel('Outcome $x$')\n",
    "plt.ylabel('Probability')\n",
    "\n",
    "plt.show()"
   ]
  },
  {
   "cell_type": "markdown",
   "metadata": {},
   "source": [
    "Calculate the mean and variance of the distribution"
   ]
  },
  {
   "cell_type": "code",
   "execution_count": 5,
   "metadata": {},
   "outputs": [],
   "source": [
    "mu_x = np.sum(x * prob_x)\n",
    "sigma_x = np.sqrt(np.sum(x ** 2 * prob_x) - np.sum(x * prob_x) ** 2)"
   ]
  },
  {
   "cell_type": "code",
   "execution_count": 6,
   "metadata": {},
   "outputs": [
    {
     "name": "stdout",
     "output_type": "stream",
     "text": [
      "50.0\n",
      "9.999942145653804\n"
     ]
    }
   ],
   "source": [
    "print(mu_x)\n",
    "print(sigma_x)"
   ]
  },
  {
   "cell_type": "markdown",
   "metadata": {},
   "source": [
    "Generate histogram of realizations of the sample mean for varying number of experiments"
   ]
  },
  {
   "cell_type": "code",
   "execution_count": 7,
   "metadata": {},
   "outputs": [],
   "source": [
    "num_exp = 10\n",
    "num_realizations = 10000\n",
    "\n",
    "num_pts = len(prob_x)\n",
    "\n",
    "y = np.array([])\n",
    "for i_exp in range(num_realizations):\n",
    "    y = np.append(y, np.mean(np.random.choice(num_pts, num_exp, p=prob_x)))"
   ]
  },
  {
   "cell_type": "code",
   "execution_count": 8,
   "metadata": {},
   "outputs": [],
   "source": [
    "delta_x = x[1] - x[0]\n",
    "x_bin = np.append(x,x[-1] + delta_x) - delta_x / 2\n",
    "prob_y, x_bin = np.histogram(y, bins=x_bin, density = True)\n",
    "\n",
    "sigma_y = sigma_x / np.sqrt(num_exp)\n",
    "prob_y_gauss = 1 / np.sqrt(2 * np.pi) / sigma_y * np.exp(- (x - mu_x) ** 2 / (2 * sigma_y ** 2))"
   ]
  },
  {
   "cell_type": "code",
   "execution_count": 9,
   "metadata": {},
   "outputs": [
    {
     "data": {
      "image/png": "[encoded data removed]",
      "text/plain": [
       "<Figure size 432x288 with 1 Axes>"
      ]
     },
     "metadata": {
      "needs_background": "light"
     },
     "output_type": "display_data"
    }
   ],
   "source": [
    "plt.figure()\n",
    "font = {'family' : 'serif',\n",
    "        'weight':'normal',\n",
    "        'size': 18}\n",
    "plt.rc('font', **font)\n",
    "\n",
    "plt.plot(x, prob_y_gauss)\n",
    "plt.bar(x, prob_y)\n",
    "\n",
    "plt.xlabel('Outcome $x$')\n",
    "plt.ylabel('Probability')\n",
    "\n",
    "plt.show()"
   ]
  },
  {
   "cell_type": "markdown",
   "metadata": {},
   "source": [
    "Perform the analysis for two peaks of equal weight"
   ]
  },
  {
   "cell_type": "code",
   "execution_count": 10,
   "metadata": {},
   "outputs": [],
   "source": [
    "num_pts=101\n",
    "x_range=np.array([0, 100])\n",
    "mu=np.array([33, 67])\n",
    "sigma=np.array([4, 4])\n",
    "weight=np.array([1, 1])\n",
    "\n",
    "x, prob_x = generate_prob_array(num_pts, x_range, mu, sigma, weight)"
   ]
  },
  {
   "cell_type": "code",
   "execution_count": 11,
   "metadata": {},
   "outputs": [
    {
     "data": {
      "image/png": "[encoded data removed]",
      "text/plain": [
       "<Figure size 432x288 with 1 Axes>"
      ]
     },
     "metadata": {
      "needs_background": "light"
     },
     "output_type": "display_data"
    }
   ],
   "source": [
    "plt.figure()\n",
    "font = {'family' : 'serif',\n",
    "        'weight':'normal',\n",
    "        'size': 18}\n",
    "plt.rc('font', **font)\n",
    "\n",
    "plt.scatter(x, prob_x)\n",
    "\n",
    "plt.xlabel('Outcome $x$')\n",
    "plt.ylabel('Probability')\n",
    "\n",
    "plt.show()"
   ]
  },
  {
   "cell_type": "markdown",
   "metadata": {},
   "source": [
    "Calculate the mean and variance of the distribution"
   ]
  },
  {
   "cell_type": "code",
   "execution_count": 12,
   "metadata": {},
   "outputs": [],
   "source": [
    "mu_x = np.sum(x * prob_x)\n",
    "sigma_x = np.sqrt(np.sum(x ** 2 * prob_x) - np.sum(x * prob_x) ** 2)"
   ]
  },
  {
   "cell_type": "markdown",
   "metadata": {},
   "source": [
    "Generate histogram of realizations of the sample mean for varying number of experiments"
   ]
  },
  {
   "cell_type": "code",
   "execution_count": 13,
   "metadata": {},
   "outputs": [],
   "source": [
    "num_exp = 3\n",
    "num_realizations = 10000\n",
    "\n",
    "num_pts = len(prob_x)\n",
    "\n",
    "y = np.array([])\n",
    "for i_exp in range(num_realizations):\n",
    "    y = np.append(y, np.mean(np.random.choice(num_pts, num_exp, p=prob_x)))\n",
    "\n",
    "delta_x = x[1] - x[0]\n",
    "x_bin = np.append(x,x[-1] + delta_x) - delta_x / 2\n",
    "prob_y, x_bin = np.histogram(y, bins=x_bin, density = True)\n",
    "\n",
    "sigma_y = sigma_x / np.sqrt(num_exp)\n",
    "prob_y_gauss = 1 / np.sqrt(2 * np.pi) / sigma_y * np.exp(- (x - mu_x) ** 2 / (2 * sigma_y ** 2))\n",
    "\n"
   ]
  },
  {
   "cell_type": "code",
   "execution_count": 14,
   "metadata": {},
   "outputs": [
    {
     "data": {
      "image/png": "[encoded data removed]",
      "text/plain": [
       "<Figure size 432x288 with 1 Axes>"
      ]
     },
     "metadata": {
      "needs_background": "light"
     },
     "output_type": "display_data"
    }
   ],
   "source": [
    "plt.figure()\n",
    "font = {'family' : 'serif',\n",
    "        'weight':'normal',\n",
    "        'size': 18}\n",
    "plt.rc('font', **font)\n",
    "\n",
    "plt.plot(x, prob_y_gauss)\n",
    "plt.bar(x, prob_y)\n",
    "\n",
    "plt.xlabel('Outcome $x$')\n",
    "plt.ylabel('Probability')\n",
    "\n",
    "plt.show()"
   ]
  },
  {
   "cell_type": "markdown",
   "metadata": {},
   "source": [
    "Perform the analysis for two peaks of unequal weight"
   ]
  },
  {
   "cell_type": "code",
   "execution_count": 15,
   "metadata": {},
   "outputs": [],
   "source": [
    "num_pts=101\n",
    "x_range=np.array([0, 100])\n",
    "mu=np.array([33, 67])\n",
    "sigma=np.array([4, 4])\n",
    "weight=np.array([3, 1])\n",
    "\n",
    "x, prob_x = generate_prob_array(num_pts, x_range, mu, sigma, weight)"
   ]
  },
  {
   "cell_type": "code",
   "execution_count": 16,
   "metadata": {},
   "outputs": [
    {
     "data": {
      "image/png": "[encoded data removed]",
      "text/plain": [
       "<Figure size 432x288 with 1 Axes>"
      ]
     },
     "metadata": {
      "needs_background": "light"
     },
     "output_type": "display_data"
    }
   ],
   "source": [
    "plt.figure()\n",
    "font = {'family' : 'serif',\n",
    "        'weight':'normal',\n",
    "        'size': 18}\n",
    "plt.rc('font', **font)\n",
    "\n",
    "plt.scatter(x, prob_x)\n",
    "\n",
    "plt.xlabel('Outcome $x$')\n",
    "plt.ylabel('Probability')\n",
    "\n",
    "plt.show()"
   ]
  },
  {
   "cell_type": "markdown",
   "metadata": {},
   "source": [
    "Calculate the mean and variance of the distribution"
   ]
  },
  {
   "cell_type": "code",
   "execution_count": 17,
   "metadata": {},
   "outputs": [],
   "source": [
    "mu_x = np.sum(x * prob_x)\n",
    "sigma_x = np.sqrt(np.sum(x ** 2 * prob_x) - np.sum(x * prob_x) ** 2)"
   ]
  },
  {
   "cell_type": "markdown",
   "metadata": {},
   "source": [
    "Generate histogram of realizations of the sample mean for varying number of experiments"
   ]
  },
  {
   "cell_type": "code",
   "execution_count": 18,
   "metadata": {},
   "outputs": [],
   "source": [
    "num_exp = 5\n",
    "num_realizations = 10000\n",
    "\n",
    "num_pts = len(prob_x)\n",
    "\n",
    "y = np.array([])\n",
    "for i_exp in range(num_realizations):\n",
    "    y = np.append(y, np.mean(np.random.choice(num_pts, num_exp, p=prob_x)))\n",
    "\n",
    "delta_x = x[1] - x[0]\n",
    "x_bin = np.append(x,x[-1] + delta_x) - delta_x / 2\n",
    "prob_y, x_bin = np.histogram(y, bins=x_bin, density = True)\n",
    "\n",
    "sigma_y = sigma_x / np.sqrt(num_exp)\n",
    "prob_y_gauss = 1 / np.sqrt(2 * np.pi) / sigma_y * np.exp(- (x - mu_x) ** 2 / (2 * sigma_y ** 2))"
   ]
  },
  {
   "cell_type": "code",
   "execution_count": 19,
   "metadata": {},
   "outputs": [
    {
     "data": {
      "image/png": "[encoded data removed]",
      "text/plain": [
       "<Figure size 432x288 with 1 Axes>"
      ]
     },
     "metadata": {
      "needs_background": "light"
     },
     "output_type": "display_data"
    }
   ],
   "source": [
    "plt.figure()\n",
    "font = {'family' : 'serif',\n",
    "        'weight':'normal',\n",
    "        'size': 18}\n",
    "plt.rc('font', **font)\n",
    "\n",
    "plt.plot(x, prob_y_gauss)\n",
    "plt.bar(x, prob_y)\n",
    "\n",
    "plt.xlabel('Outcome $x$')\n",
    "plt.ylabel('Probability')\n",
    "\n",
    "plt.show()"
   ]
  },
  {
   "cell_type": "code",
   "execution_count": null,
   "metadata": {},
   "outputs": [],
   "source": []
  }
 ],
 "metadata": {
  "kernelspec": {
   "display_name": "Python 3",
   "language": "python",
   "name": "python3"
  },
  "language_info": {
   "codemirror_mode": {
    "name": "ipython",
    "version": 3
   },
   "file_extension": ".py",
   "mimetype": "text/x-python",
   "name": "python",
   "nbconvert_exporter": "python",
   "pygments_lexer": "ipython3",
   "version": "3.8.5"
  }
 },
 "nbformat": 4,
 "nbformat_minor": 4
}
